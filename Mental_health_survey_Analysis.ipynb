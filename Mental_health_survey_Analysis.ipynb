{
 "cells": [
  {
   "cell_type": "code",
   "execution_count": null,
   "metadata": {
    "id": "I1apcow5dxii"
   },
   "outputs": [],
   "source": []
  },
  {
   "cell_type": "markdown",
   "metadata": {
    "id": "vncDsAP0Gaoa"
   },
   "source": [
    "# **Project Name**    -    Exploratory Data Analysis on Mental Health Survey"
   ]
  },
  {
   "cell_type": "markdown",
   "metadata": {
    "id": "beRrZCGUAJYm"
   },
   "source": [
    "##### **Project Type**    - EDA\n",
    "##### **Contribution**    - Individual"
   ]
  },
  {
   "cell_type": "markdown",
   "metadata": {
    "id": "FJNUwmbgGyua"
   },
   "source": [
    "# **Project Summary -**"
   ]
  },
  {
   "attachments": {},
   "cell_type": "markdown",
   "metadata": {
    "id": "F6v_1wHtG2nS"
   },
   "source": [
    "This EDA project aims to analyse and detect possible insights/Recommendation from mental health survey that can be used to drive important decisions which could lead to a successful policy implementation regarding mental health of an employee. Detecting possible Stigma causing treatment reluctance is important since reluctance to mental health treatment can cause an organization work force to decline. \n",
    "\n",
    "This dataset is from a 2014 survey that measures attitudes towards mental health and frequency of mental health disorders in the tech workplace."
   ]
  },
  {
   "cell_type": "markdown",
   "metadata": {
    "id": "w6K7xa23Elo4"
   },
   "source": [
    "# **GitHub Link -**"
   ]
  },
  {
   "cell_type": "markdown",
   "metadata": {
    "id": "h1o69JH3Eqqn"
   },
   "source": [
    "Provide your GitHub Link here."
   ]
  },
  {
   "cell_type": "markdown",
   "metadata": {
    "id": "yQaldy8SH6Dl"
   },
   "source": [
    "# **Problem Statement**\n"
   ]
  },
  {
   "cell_type": "markdown",
   "metadata": {
    "id": "DpeJGUA3kjGy"
   },
   "source": [
    "1. **How can an organization improve its mental health policy and increase treatment seeking employees that require mental health care.**\n",
    "2. **Detecting and removing any stigmas in workplace that prevent employees from claiming mental health treatment.**"
   ]
  },
  {
   "cell_type": "markdown",
   "metadata": {
    "id": "PH-0ReGfmX4f"
   },
   "source": [
    "#### **Define Your Business Objective?**"
   ]
  },
  {
   "cell_type": "markdown",
   "metadata": {
    "id": "PhDvGCAqmjP1"
   },
   "source": [
    "1. **Demographic Insights**\n",
    "    - Age distribution and its relationship to mental health treatment.\n",
    "    - Gender difference in seeking treatment or reporting work interference.\n",
    "    - Country wise comparison for treatment seeking behaviour or comapny support.\n",
    "    - Are self employed individuals more or less likely to seek mental health treatment?\n",
    "2. **Mental Health Treatment and History**\n",
    "    - How does family history of mental illness affect likelihood of seeking treatment?\n",
    "    - Do those who report work interference due to mental health actually seek treatment?\n",
    "    - Is there a strong correlation between work interference and seeking help?\n",
    "3. **Workplace Culture and Support**\n",
    "    - Are employees in larger companies more likely to recieve mental health benefits?\n",
    "    - Does working remotely impact mental health or likelihood of seeking treatment?\n",
    "    - Are tech companies more likely to offer benefits or wellness programs?\n",
    "    - Do employees percieve that mental health is treated equally to physical health?\n",
    "    - Does Knowing care options correlate with actually seeking treatment?\n",
    "4. **Attitudes and Consequences**\n",
    "    - Are employees comfortable discussing mental or physical health in interviews?\n",
    "    - Are observed consequences for mental illness in workplace discouraging treatment?\n",
    "    - Is there a stigma in workplace that affects treatment?"
   ]
  },
  {
   "cell_type": "markdown",
   "metadata": {
    "id": "mDgbUHAGgjLW"
   },
   "source": [
    "# **General Guidelines** : -  "
   ]
  },
  {
   "cell_type": "markdown",
   "metadata": {
    "id": "ZrxVaUj-hHfC"
   },
   "source": [
    "1.   Well-structured, formatted, and commented code is required.\n",
    "2.   Exception Handling, Production Grade Code & Deployment Ready Code will be a plus. Those students will be awarded some additional credits.\n",
    "     \n",
    "     The additional credits will have advantages over other students during Star Student selection.\n",
    "       \n",
    "             [ Note: - Deployment Ready Code is defined as, the whole .ipynb notebook should be executable in one go\n",
    "                       without a single error logged. ]\n",
    "\n",
    "3.   Each and every logic should have proper comments.\n",
    "4. You may add as many number of charts you want. Make Sure for each and every chart the following format should be answered.\n",
    "        \n",
    "\n",
    "```\n",
    "# Chart visualization code\n",
    "```\n",
    "            \n",
    "\n",
    "*   Why did you pick the specific chart?\n",
    "*   What is/are the insight(s) found from the chart?\n",
    "* Will the gained insights help creating a positive business impact?\n",
    "Are there any insights that lead to negative growth? Justify with specific reason.\n",
    "\n",
    "5. You have to create at least 20 logical & meaningful charts having important insights.\n",
    "\n",
    "\n",
    "[ Hints : - Do the Vizualization in  a structured way while following \"UBM\" Rule.\n",
    "\n",
    "U - Univariate Analysis,\n",
    "\n",
    "B - Bivariate Analysis (Numerical - Categorical, Numerical - Numerical, Categorical - Categorical)\n",
    "\n",
    "M - Multivariate Analysis\n",
    " ]\n",
    "\n",
    "\n",
    "\n"
   ]
  },
  {
   "cell_type": "markdown",
   "metadata": {
    "id": "O_i_v8NEhb9l"
   },
   "source": [
    "# ***Let's Begin !***"
   ]
  },
  {
   "cell_type": "markdown",
   "metadata": {
    "id": "HhfV-JJviCcP"
   },
   "source": [
    "## ***1. Know Your Data***"
   ]
  },
  {
   "cell_type": "markdown",
   "metadata": {
    "id": "Y3lxredqlCYt"
   },
   "source": [
    "### Import Libraries"
   ]
  },
  {
   "cell_type": "code",
   "execution_count": 46,
   "metadata": {
    "id": "M8Vqi-pPk-HR"
   },
   "outputs": [],
   "source": [
    "import pandas as pd\n",
    "import numpy as np\n",
    "import matplotlib.pyplot as plt\n",
    "import seaborn as sns"
   ]
  },
  {
   "cell_type": "markdown",
   "metadata": {
    "id": "3RnN4peoiCZX"
   },
   "source": [
    "### Dataset Loading"
   ]
  },
  {
   "cell_type": "code",
   "execution_count": 47,
   "metadata": {
    "id": "4CkvbW_SlZ_R"
   },
   "outputs": [],
   "source": [
    "df = pd.read_csv(\"survey.csv\")"
   ]
  },
  {
   "cell_type": "markdown",
   "metadata": {
    "id": "x71ZqKXriCWQ"
   },
   "source": [
    "### Dataset First View"
   ]
  },
  {
   "cell_type": "code",
   "execution_count": 48,
   "metadata": {
    "id": "LWNFOSvLl09H"
   },
   "outputs": [
    {
     "data": {
      "text/html": [
       "<div>\n",
       "<style scoped>\n",
       "    .dataframe tbody tr th:only-of-type {\n",
       "        vertical-align: middle;\n",
       "    }\n",
       "\n",
       "    .dataframe tbody tr th {\n",
       "        vertical-align: top;\n",
       "    }\n",
       "\n",
       "    .dataframe thead th {\n",
       "        text-align: right;\n",
       "    }\n",
       "</style>\n",
       "<table border=\"1\" class=\"dataframe\">\n",
       "  <thead>\n",
       "    <tr style=\"text-align: right;\">\n",
       "      <th></th>\n",
       "      <th>Timestamp</th>\n",
       "      <th>Age</th>\n",
       "      <th>Gender</th>\n",
       "      <th>Country</th>\n",
       "      <th>state</th>\n",
       "      <th>self_employed</th>\n",
       "      <th>family_history</th>\n",
       "      <th>treatment</th>\n",
       "      <th>work_interfere</th>\n",
       "      <th>no_employees</th>\n",
       "      <th>...</th>\n",
       "      <th>leave</th>\n",
       "      <th>mental_health_consequence</th>\n",
       "      <th>phys_health_consequence</th>\n",
       "      <th>coworkers</th>\n",
       "      <th>supervisor</th>\n",
       "      <th>mental_health_interview</th>\n",
       "      <th>phys_health_interview</th>\n",
       "      <th>mental_vs_physical</th>\n",
       "      <th>obs_consequence</th>\n",
       "      <th>comments</th>\n",
       "    </tr>\n",
       "  </thead>\n",
       "  <tbody>\n",
       "    <tr>\n",
       "      <th>0</th>\n",
       "      <td>2014-08-27 11:29:31</td>\n",
       "      <td>37</td>\n",
       "      <td>Female</td>\n",
       "      <td>United States</td>\n",
       "      <td>IL</td>\n",
       "      <td>NaN</td>\n",
       "      <td>No</td>\n",
       "      <td>Yes</td>\n",
       "      <td>Often</td>\n",
       "      <td>6-25</td>\n",
       "      <td>...</td>\n",
       "      <td>Somewhat easy</td>\n",
       "      <td>No</td>\n",
       "      <td>No</td>\n",
       "      <td>Some of them</td>\n",
       "      <td>Yes</td>\n",
       "      <td>No</td>\n",
       "      <td>Maybe</td>\n",
       "      <td>Yes</td>\n",
       "      <td>No</td>\n",
       "      <td>NaN</td>\n",
       "    </tr>\n",
       "    <tr>\n",
       "      <th>1</th>\n",
       "      <td>2014-08-27 11:29:37</td>\n",
       "      <td>44</td>\n",
       "      <td>M</td>\n",
       "      <td>United States</td>\n",
       "      <td>IN</td>\n",
       "      <td>NaN</td>\n",
       "      <td>No</td>\n",
       "      <td>No</td>\n",
       "      <td>Rarely</td>\n",
       "      <td>More than 1000</td>\n",
       "      <td>...</td>\n",
       "      <td>Don't know</td>\n",
       "      <td>Maybe</td>\n",
       "      <td>No</td>\n",
       "      <td>No</td>\n",
       "      <td>No</td>\n",
       "      <td>No</td>\n",
       "      <td>No</td>\n",
       "      <td>Don't know</td>\n",
       "      <td>No</td>\n",
       "      <td>NaN</td>\n",
       "    </tr>\n",
       "    <tr>\n",
       "      <th>2</th>\n",
       "      <td>2014-08-27 11:29:44</td>\n",
       "      <td>32</td>\n",
       "      <td>Male</td>\n",
       "      <td>Canada</td>\n",
       "      <td>NaN</td>\n",
       "      <td>NaN</td>\n",
       "      <td>No</td>\n",
       "      <td>No</td>\n",
       "      <td>Rarely</td>\n",
       "      <td>6-25</td>\n",
       "      <td>...</td>\n",
       "      <td>Somewhat difficult</td>\n",
       "      <td>No</td>\n",
       "      <td>No</td>\n",
       "      <td>Yes</td>\n",
       "      <td>Yes</td>\n",
       "      <td>Yes</td>\n",
       "      <td>Yes</td>\n",
       "      <td>No</td>\n",
       "      <td>No</td>\n",
       "      <td>NaN</td>\n",
       "    </tr>\n",
       "    <tr>\n",
       "      <th>3</th>\n",
       "      <td>2014-08-27 11:29:46</td>\n",
       "      <td>31</td>\n",
       "      <td>Male</td>\n",
       "      <td>United Kingdom</td>\n",
       "      <td>NaN</td>\n",
       "      <td>NaN</td>\n",
       "      <td>Yes</td>\n",
       "      <td>Yes</td>\n",
       "      <td>Often</td>\n",
       "      <td>26-100</td>\n",
       "      <td>...</td>\n",
       "      <td>Somewhat difficult</td>\n",
       "      <td>Yes</td>\n",
       "      <td>Yes</td>\n",
       "      <td>Some of them</td>\n",
       "      <td>No</td>\n",
       "      <td>Maybe</td>\n",
       "      <td>Maybe</td>\n",
       "      <td>No</td>\n",
       "      <td>Yes</td>\n",
       "      <td>NaN</td>\n",
       "    </tr>\n",
       "    <tr>\n",
       "      <th>4</th>\n",
       "      <td>2014-08-27 11:30:22</td>\n",
       "      <td>31</td>\n",
       "      <td>Male</td>\n",
       "      <td>United States</td>\n",
       "      <td>TX</td>\n",
       "      <td>NaN</td>\n",
       "      <td>No</td>\n",
       "      <td>No</td>\n",
       "      <td>Never</td>\n",
       "      <td>100-500</td>\n",
       "      <td>...</td>\n",
       "      <td>Don't know</td>\n",
       "      <td>No</td>\n",
       "      <td>No</td>\n",
       "      <td>Some of them</td>\n",
       "      <td>Yes</td>\n",
       "      <td>Yes</td>\n",
       "      <td>Yes</td>\n",
       "      <td>Don't know</td>\n",
       "      <td>No</td>\n",
       "      <td>NaN</td>\n",
       "    </tr>\n",
       "  </tbody>\n",
       "</table>\n",
       "<p>5 rows × 27 columns</p>\n",
       "</div>"
      ],
      "text/plain": [
       "             Timestamp  Age  Gender         Country state self_employed  \\\n",
       "0  2014-08-27 11:29:31   37  Female   United States    IL           NaN   \n",
       "1  2014-08-27 11:29:37   44       M   United States    IN           NaN   \n",
       "2  2014-08-27 11:29:44   32    Male          Canada   NaN           NaN   \n",
       "3  2014-08-27 11:29:46   31    Male  United Kingdom   NaN           NaN   \n",
       "4  2014-08-27 11:30:22   31    Male   United States    TX           NaN   \n",
       "\n",
       "  family_history treatment work_interfere    no_employees  ...  \\\n",
       "0             No       Yes          Often            6-25  ...   \n",
       "1             No        No         Rarely  More than 1000  ...   \n",
       "2             No        No         Rarely            6-25  ...   \n",
       "3            Yes       Yes          Often          26-100  ...   \n",
       "4             No        No          Never         100-500  ...   \n",
       "\n",
       "                leave mental_health_consequence phys_health_consequence  \\\n",
       "0       Somewhat easy                        No                      No   \n",
       "1          Don't know                     Maybe                      No   \n",
       "2  Somewhat difficult                        No                      No   \n",
       "3  Somewhat difficult                       Yes                     Yes   \n",
       "4          Don't know                        No                      No   \n",
       "\n",
       "      coworkers supervisor mental_health_interview phys_health_interview  \\\n",
       "0  Some of them        Yes                      No                 Maybe   \n",
       "1            No         No                      No                    No   \n",
       "2           Yes        Yes                     Yes                   Yes   \n",
       "3  Some of them         No                   Maybe                 Maybe   \n",
       "4  Some of them        Yes                     Yes                   Yes   \n",
       "\n",
       "  mental_vs_physical obs_consequence comments  \n",
       "0                Yes              No      NaN  \n",
       "1         Don't know              No      NaN  \n",
       "2                 No              No      NaN  \n",
       "3                 No             Yes      NaN  \n",
       "4         Don't know              No      NaN  \n",
       "\n",
       "[5 rows x 27 columns]"
      ]
     },
     "execution_count": 48,
     "metadata": {},
     "output_type": "execute_result"
    }
   ],
   "source": [
    "df.head()"
   ]
  },
  {
   "cell_type": "markdown",
   "metadata": {
    "id": "7hBIi_osiCS2"
   },
   "source": [
    "### Dataset Rows & Columns count"
   ]
  },
  {
   "cell_type": "code",
   "execution_count": 49,
   "metadata": {
    "id": "Kllu7SJgmLij"
   },
   "outputs": [
    {
     "name": "stdout",
     "output_type": "stream",
     "text": [
      "Number of Rows:1259\n",
      "Number of columns:27\n"
     ]
    }
   ],
   "source": [
    "print(f\"Number of Rows:{df.shape[0]}\")\n",
    "print(f\"Number of columns:{df.shape[1]}\")"
   ]
  },
  {
   "cell_type": "markdown",
   "metadata": {
    "id": "JlHwYmJAmNHm"
   },
   "source": [
    "### Dataset Information"
   ]
  },
  {
   "cell_type": "code",
   "execution_count": 50,
   "metadata": {
    "id": "e9hRXRi6meOf"
   },
   "outputs": [
    {
     "name": "stdout",
     "output_type": "stream",
     "text": [
      "<class 'pandas.core.frame.DataFrame'>\n",
      "RangeIndex: 1259 entries, 0 to 1258\n",
      "Data columns (total 27 columns):\n",
      " #   Column                     Non-Null Count  Dtype \n",
      "---  ------                     --------------  ----- \n",
      " 0   Timestamp                  1259 non-null   object\n",
      " 1   Age                        1259 non-null   int64 \n",
      " 2   Gender                     1259 non-null   object\n",
      " 3   Country                    1259 non-null   object\n",
      " 4   state                      744 non-null    object\n",
      " 5   self_employed              1241 non-null   object\n",
      " 6   family_history             1259 non-null   object\n",
      " 7   treatment                  1259 non-null   object\n",
      " 8   work_interfere             995 non-null    object\n",
      " 9   no_employees               1259 non-null   object\n",
      " 10  remote_work                1259 non-null   object\n",
      " 11  tech_company               1259 non-null   object\n",
      " 12  benefits                   1259 non-null   object\n",
      " 13  care_options               1259 non-null   object\n",
      " 14  wellness_program           1259 non-null   object\n",
      " 15  seek_help                  1259 non-null   object\n",
      " 16  anonymity                  1259 non-null   object\n",
      " 17  leave                      1259 non-null   object\n",
      " 18  mental_health_consequence  1259 non-null   object\n",
      " 19  phys_health_consequence    1259 non-null   object\n",
      " 20  coworkers                  1259 non-null   object\n",
      " 21  supervisor                 1259 non-null   object\n",
      " 22  mental_health_interview    1259 non-null   object\n",
      " 23  phys_health_interview      1259 non-null   object\n",
      " 24  mental_vs_physical         1259 non-null   object\n",
      " 25  obs_consequence            1259 non-null   object\n",
      " 26  comments                   164 non-null    object\n",
      "dtypes: int64(1), object(26)\n",
      "memory usage: 265.7+ KB\n"
     ]
    }
   ],
   "source": [
    "df.info()"
   ]
  },
  {
   "cell_type": "markdown",
   "metadata": {
    "id": "35m5QtbWiB9F"
   },
   "source": [
    "#### Duplicate Values"
   ]
  },
  {
   "cell_type": "code",
   "execution_count": 51,
   "metadata": {
    "id": "1sLdpKYkmox0"
   },
   "outputs": [
    {
     "name": "stdout",
     "output_type": "stream",
     "text": [
      "No duplicates found\n"
     ]
    }
   ],
   "source": [
    "# Dataset Duplicate Value Count\n",
    "if df.duplicated().sum() == 0:\n",
    "    print(\"No duplicates found\")\n",
    "else:\n",
    "    print(\"Found du[plicates\")"
   ]
  },
  {
   "cell_type": "markdown",
   "metadata": {
    "id": "PoPl-ycgm1ru"
   },
   "source": [
    "#### Missing Values/Null Values"
   ]
  },
  {
   "cell_type": "code",
   "execution_count": 52,
   "metadata": {
    "id": "GgHWkxvamxVg"
   },
   "outputs": [
    {
     "data": {
      "text/plain": [
       "Timestamp                       0\n",
       "Age                             0\n",
       "Gender                          0\n",
       "Country                         0\n",
       "state                         515\n",
       "self_employed                  18\n",
       "family_history                  0\n",
       "treatment                       0\n",
       "work_interfere                264\n",
       "no_employees                    0\n",
       "remote_work                     0\n",
       "tech_company                    0\n",
       "benefits                        0\n",
       "care_options                    0\n",
       "wellness_program                0\n",
       "seek_help                       0\n",
       "anonymity                       0\n",
       "leave                           0\n",
       "mental_health_consequence       0\n",
       "phys_health_consequence         0\n",
       "coworkers                       0\n",
       "supervisor                      0\n",
       "mental_health_interview         0\n",
       "phys_health_interview           0\n",
       "mental_vs_physical              0\n",
       "obs_consequence                 0\n",
       "comments                     1095\n",
       "dtype: int64"
      ]
     },
     "execution_count": 52,
     "metadata": {},
     "output_type": "execute_result"
    }
   ],
   "source": [
    "# Missing Values/Null Values Count\n",
    "df.isnull().sum()"
   ]
  },
  {
   "cell_type": "code",
   "execution_count": 53,
   "metadata": {},
   "outputs": [],
   "source": [
    "# Missing value percentage\n",
    "def missing_percent(data):\n",
    "    missing_values = data.isnull().sum()\n",
    "    data_length = len(data)\n",
    "    missing_percent = (missing_values/data_length)*100\n",
    "    return round(missing_percent,2)"
   ]
  },
  {
   "cell_type": "code",
   "execution_count": 54,
   "metadata": {},
   "outputs": [
    {
     "data": {
      "text/plain": [
       "Timestamp                     0.00\n",
       "Age                           0.00\n",
       "Gender                        0.00\n",
       "Country                       0.00\n",
       "state                        40.91\n",
       "self_employed                 1.43\n",
       "family_history                0.00\n",
       "treatment                     0.00\n",
       "work_interfere               20.97\n",
       "no_employees                  0.00\n",
       "remote_work                   0.00\n",
       "tech_company                  0.00\n",
       "benefits                      0.00\n",
       "care_options                  0.00\n",
       "wellness_program              0.00\n",
       "seek_help                     0.00\n",
       "anonymity                     0.00\n",
       "leave                         0.00\n",
       "mental_health_consequence     0.00\n",
       "phys_health_consequence       0.00\n",
       "coworkers                     0.00\n",
       "supervisor                    0.00\n",
       "mental_health_interview       0.00\n",
       "phys_health_interview         0.00\n",
       "mental_vs_physical            0.00\n",
       "obs_consequence               0.00\n",
       "comments                     86.97\n",
       "dtype: float64"
      ]
     },
     "execution_count": 54,
     "metadata": {},
     "output_type": "execute_result"
    }
   ],
   "source": [
    "missing_percent(df)"
   ]
  },
  {
   "cell_type": "code",
   "execution_count": 55,
   "metadata": {
    "id": "3q5wnI3om9sJ"
   },
   "outputs": [
    {
     "data": {
      "image/png": "[encoded data removed]",
      "text/plain": [
       "<Figure size 1200x800 with 2 Axes>"
      ]
     },
     "metadata": {},
     "output_type": "display_data"
    }
   ],
   "source": [
    "# Visualizing the missing values\n",
    "plt.figure(figsize = (12,8))\n",
    "plt.title(\"Visualizing missing values\")\n",
    "color = ['green','yellow']\n",
    "sns.heatmap(data = df.isnull(),cmap = sns.color_palette(color))\n",
    "plt.show()"
   ]
  },
  {
   "cell_type": "markdown",
   "metadata": {
    "id": "H0kj-8xxnORC"
   },
   "source": [
    "### What did you know about your dataset?"
   ]
  },
  {
   "cell_type": "markdown",
   "metadata": {
    "id": "gfoNAAC-nUe_"
   },
   "source": [
    "- Dataset contains 1259 rows with 27 columns.\n",
    "- Dataset has some null values in 'state','self_employed','work_interfere' and 'comments' column\n",
    "- Dataset doesn't have any duplicate rows.\n",
    "- There are 40.91% of missing data in state column, 1.43% of missing values in 'self_employed' column, 20.97% missing values in 'work_interfere' column and 86.97% of missing values in 'comments' column.\n",
    "- There is only one numeric column 'Age'. It has some inconsistencies as shown by the describe() method."
   ]
  },
  {
   "cell_type": "markdown",
   "metadata": {
    "id": "nA9Y7ga8ng1Z"
   },
   "source": [
    "## ***2. Understanding Your Variables***"
   ]
  },
  {
   "cell_type": "code",
   "execution_count": 56,
   "metadata": {
    "id": "j7xfkqrt5Ag5"
   },
   "outputs": [
    {
     "data": {
      "text/plain": [
       "Index(['Timestamp', 'Age', 'Gender', 'Country', 'state', 'self_employed',\n",
       "       'family_history', 'treatment', 'work_interfere', 'no_employees',\n",
       "       'remote_work', 'tech_company', 'benefits', 'care_options',\n",
       "       'wellness_program', 'seek_help', 'anonymity', 'leave',\n",
       "       'mental_health_consequence', 'phys_health_consequence', 'coworkers',\n",
       "       'supervisor', 'mental_health_interview', 'phys_health_interview',\n",
       "       'mental_vs_physical', 'obs_consequence', 'comments'],\n",
       "      dtype='object')"
      ]
     },
     "execution_count": 56,
     "metadata": {},
     "output_type": "execute_result"
    }
   ],
   "source": [
    "# Dataset Columns\n",
    "df.columns"
   ]
  },
  {
   "cell_type": "code",
   "execution_count": 57,
   "metadata": {
    "id": "DnOaZdaE5Q5t"
   },
   "outputs": [
    {
     "data": {
      "text/html": [
       "<div>\n",
       "<style scoped>\n",
       "    .dataframe tbody tr th:only-of-type {\n",
       "        vertical-align: middle;\n",
       "    }\n",
       "\n",
       "    .dataframe tbody tr th {\n",
       "        vertical-align: top;\n",
       "    }\n",
       "\n",
       "    .dataframe thead th {\n",
       "        text-align: right;\n",
       "    }\n",
       "</style>\n",
       "<table border=\"1\" class=\"dataframe\">\n",
       "  <thead>\n",
       "    <tr style=\"text-align: right;\">\n",
       "      <th></th>\n",
       "      <th>Age</th>\n",
       "    </tr>\n",
       "  </thead>\n",
       "  <tbody>\n",
       "    <tr>\n",
       "      <th>count</th>\n",
       "      <td>1.259000e+03</td>\n",
       "    </tr>\n",
       "    <tr>\n",
       "      <th>mean</th>\n",
       "      <td>7.942815e+07</td>\n",
       "    </tr>\n",
       "    <tr>\n",
       "      <th>std</th>\n",
       "      <td>2.818299e+09</td>\n",
       "    </tr>\n",
       "    <tr>\n",
       "      <th>min</th>\n",
       "      <td>-1.726000e+03</td>\n",
       "    </tr>\n",
       "    <tr>\n",
       "      <th>25%</th>\n",
       "      <td>2.700000e+01</td>\n",
       "    </tr>\n",
       "    <tr>\n",
       "      <th>50%</th>\n",
       "      <td>3.100000e+01</td>\n",
       "    </tr>\n",
       "    <tr>\n",
       "      <th>75%</th>\n",
       "      <td>3.600000e+01</td>\n",
       "    </tr>\n",
       "    <tr>\n",
       "      <th>max</th>\n",
       "      <td>1.000000e+11</td>\n",
       "    </tr>\n",
       "  </tbody>\n",
       "</table>\n",
       "</div>"
      ],
      "text/plain": [
       "                Age\n",
       "count  1.259000e+03\n",
       "mean   7.942815e+07\n",
       "std    2.818299e+09\n",
       "min   -1.726000e+03\n",
       "25%    2.700000e+01\n",
       "50%    3.100000e+01\n",
       "75%    3.600000e+01\n",
       "max    1.000000e+11"
      ]
     },
     "execution_count": 57,
     "metadata": {},
     "output_type": "execute_result"
    }
   ],
   "source": [
    "# Dataset Describe\n",
    "df.describe()"
   ]
  },
  {
   "cell_type": "markdown",
   "metadata": {
    "id": "PBTbrJXOngz2"
   },
   "source": [
    "### Variables Description"
   ]
  },
  {
   "attachments": {},
   "cell_type": "markdown",
   "metadata": {
    "id": "aJV4KIxSnxay"
   },
   "source": [
    "- Timestamp\n",
    "- Age\n",
    "- Gender\n",
    "- Country\n",
    "- state: If you live in the United States, which state or territory do you live in?\n",
    "- self_employed: Are you self-employed?\n",
    "- family_history: Do you have a family history of mental illness?\n",
    "- treatment: Have you sought treatment for a mental health condition?\n",
    "- work_interfere: If you have a mental health condition, do you feel that it interferes with your work?\n",
    "- no_employees: How many employees does your company or organization have?\n",
    "- remote_work: Do you work remotely (outside of an office) at least 50% of the time?\n",
    "- tech_company: Is your employer primarily a tech company/organization?\n",
    "- benefits: Does your employer provide mental health benefits?\n",
    "- care_options: Do you know the options for mental health care your employer provides?\n",
    "- wellness_program: Has your employer ever discussed mental health as part of an employee wellness program?\n",
    "- seek_help: Does your employer provide resources to learn more about mental health issues and how to seek help?\n",
    "- anonimity: Is your anonimity protected if you choose to take advantage of mental health or substance abuse treatment resources?\n",
    "- leave: How easy is it for you to take medical leave for a mental health condition?\n",
    "- mental_health_consequence: Do you think That discussing a mental health issue with your employer would have negative consequences?\n",
    "- mental_health_interview: Would you bring up a mental health issue with a potential employer in an interview?\n",
    "- phys_health_interview: Would you bring up a physical health issue with a potential employer in an interview?\n",
    "- mental_vs_physical: Do you feel that your employer takes mental health as seriously as physical health?\n",
    "- obs_consequence: Have you heard of or observed negative consequences for coworkers with mental health conditions in your workplace?\n",
    "- comments: Any additional notes or comments"
   ]
  },
  {
   "cell_type": "markdown",
   "metadata": {
    "id": "u3PMJOP6ngxN"
   },
   "source": [
    "### Check Unique Values for each variable."
   ]
  },
  {
   "cell_type": "code",
   "execution_count": 58,
   "metadata": {
    "id": "zms12Yq5n-jE"
   },
   "outputs": [
    {
     "name": "stdout",
     "output_type": "stream",
     "text": [
      "Column: Timestamp\n",
      "['2014-08-27 11:29:31' '2014-08-27 11:29:37' '2014-08-27 11:29:44' ...\n",
      " '2015-11-07 12:36:58' '2015-11-30 21:25:06' '2016-02-01 23:04:31']\n",
      "____________________________________________________________________________________________________\n",
      "Column: Age\n",
      "[         37          44          32          31          33          35\n",
      "          39          42          23          29          36          27\n",
      "          46          41          34          30          40          38\n",
      "          50          24          18          28          26          22\n",
      "          19          25          45          21         -29          43\n",
      "          56          60          54         329          55 99999999999\n",
      "          48          20          57          58          47          62\n",
      "          51          65          49       -1726           5          53\n",
      "          61           8          11          -1          72]\n",
      "____________________________________________________________________________________________________\n",
      "Column: Gender\n",
      "['Female' 'M' 'Male' 'male' 'female' 'm' 'Male-ish' 'maile' 'Trans-female'\n",
      " 'Cis Female' 'F' 'something kinda male?' 'Cis Male' 'Woman' 'f' 'Mal'\n",
      " 'Male (CIS)' 'queer/she/they' 'non-binary' 'Femake' 'woman' 'Make' 'Nah'\n",
      " 'All' 'Enby' 'fluid' 'Genderqueer' 'Female ' 'Androgyne' 'Agender'\n",
      " 'cis-female/femme' 'Guy (-ish) ^_^' 'male leaning androgynous' 'Male '\n",
      " 'Man' 'Trans woman' 'msle' 'Neuter' 'Female (trans)' 'queer'\n",
      " 'Female (cis)' 'Mail' 'cis male' 'A little about you' 'Malr' 'p' 'femail'\n",
      " 'Cis Man' 'ostensibly male, unsure what that really means']\n",
      "____________________________________________________________________________________________________\n",
      "Column: Country\n",
      "['United States' 'Canada' 'United Kingdom' 'Bulgaria' 'France' 'Portugal'\n",
      " 'Netherlands' 'Switzerland' 'Poland' 'Australia' 'Germany' 'Russia'\n",
      " 'Mexico' 'Brazil' 'Slovenia' 'Costa Rica' 'Austria' 'Ireland' 'India'\n",
      " 'South Africa' 'Italy' 'Sweden' 'Colombia' 'Latvia' 'Romania' 'Belgium'\n",
      " 'New Zealand' 'Zimbabwe' 'Spain' 'Finland' 'Uruguay' 'Israel'\n",
      " 'Bosnia and Herzegovina' 'Hungary' 'Singapore' 'Japan' 'Nigeria'\n",
      " 'Croatia' 'Norway' 'Thailand' 'Denmark' 'Bahamas, The' 'Greece' 'Moldova'\n",
      " 'Georgia' 'China' 'Czech Republic' 'Philippines']\n",
      "____________________________________________________________________________________________________\n",
      "Column: state\n",
      "['IL' 'IN' nan 'TX' 'TN' 'MI' 'OH' 'CA' 'CT' 'MD' 'NY' 'NC' 'MA' 'IA' 'PA'\n",
      " 'WA' 'WI' 'UT' 'NM' 'OR' 'FL' 'MN' 'MO' 'AZ' 'CO' 'GA' 'DC' 'NE' 'WV'\n",
      " 'OK' 'KS' 'VA' 'NH' 'KY' 'AL' 'NV' 'NJ' 'SC' 'VT' 'SD' 'ID' 'MS' 'RI'\n",
      " 'WY' 'LA' 'ME']\n",
      "____________________________________________________________________________________________________\n",
      "Column: self_employed\n",
      "[nan 'Yes' 'No']\n",
      "____________________________________________________________________________________________________\n",
      "Column: family_history\n",
      "['No' 'Yes']\n",
      "____________________________________________________________________________________________________\n",
      "Column: treatment\n",
      "['Yes' 'No']\n",
      "____________________________________________________________________________________________________\n",
      "Column: work_interfere\n",
      "['Often' 'Rarely' 'Never' 'Sometimes' nan]\n",
      "____________________________________________________________________________________________________\n",
      "Column: no_employees\n",
      "['6-25' 'More than 1000' '26-100' '100-500' '1-5' '500-1000']\n",
      "____________________________________________________________________________________________________\n",
      "Column: remote_work\n",
      "['No' 'Yes']\n",
      "____________________________________________________________________________________________________\n",
      "Column: tech_company\n",
      "['Yes' 'No']\n",
      "____________________________________________________________________________________________________\n",
      "Column: benefits\n",
      "['Yes' \"Don't know\" 'No']\n",
      "____________________________________________________________________________________________________\n",
      "Column: care_options\n",
      "['Not sure' 'No' 'Yes']\n",
      "____________________________________________________________________________________________________\n",
      "Column: wellness_program\n",
      "['No' \"Don't know\" 'Yes']\n",
      "____________________________________________________________________________________________________\n",
      "Column: seek_help\n",
      "['Yes' \"Don't know\" 'No']\n",
      "____________________________________________________________________________________________________\n",
      "Column: anonymity\n",
      "['Yes' \"Don't know\" 'No']\n",
      "____________________________________________________________________________________________________\n",
      "Column: leave\n",
      "['Somewhat easy' \"Don't know\" 'Somewhat difficult' 'Very difficult'\n",
      " 'Very easy']\n",
      "____________________________________________________________________________________________________\n",
      "Column: mental_health_consequence\n",
      "['No' 'Maybe' 'Yes']\n",
      "____________________________________________________________________________________________________\n",
      "Column: phys_health_consequence\n",
      "['No' 'Yes' 'Maybe']\n",
      "____________________________________________________________________________________________________\n",
      "Column: coworkers\n",
      "['Some of them' 'No' 'Yes']\n",
      "____________________________________________________________________________________________________\n",
      "Column: supervisor\n",
      "['Yes' 'No' 'Some of them']\n",
      "____________________________________________________________________________________________________\n",
      "Column: mental_health_interview\n",
      "['No' 'Yes' 'Maybe']\n",
      "____________________________________________________________________________________________________\n",
      "Column: phys_health_interview\n",
      "['Maybe' 'No' 'Yes']\n",
      "____________________________________________________________________________________________________\n",
      "Column: mental_vs_physical\n",
      "['Yes' \"Don't know\" 'No']\n",
      "____________________________________________________________________________________________________\n",
      "Column: obs_consequence\n",
      "['No' 'Yes']\n",
      "____________________________________________________________________________________________________\n",
      "Column: comments\n",
      "[nan\n",
      " \"I'm not on my company's health insurance which could be part of the reason I answered Don't know to so many questions.\"\n",
      " 'I have chronic low-level neurological issues that have mental health side effects. One of my supervisors has also experienced similar neurological problems so I feel more comfortable being open about my issues than I would with someone without that experience. '\n",
      " \"My company does provide healthcare but not to me as I'm on a fixed-term contract. The mental healthcare I use is provided entirely outside of my work.\"\n",
      " 'Relatively new job. Ask again later'\n",
      " 'Sometimes I think  about using drugs for my mental health issues. If i use drugs I feel better'\n",
      " 'I selected my current employer based on its policies about self care and the quality of their overall health and wellness benefits. I still have residual caution from previous employers who ranged from ambivalent to indifferent to actively hostile regarding mental health concerns.'\n",
      " \"Our health plan has covered my psychotherapy and my antidepressant medication. My manager has been aware but discreet throughout. I did get negative reviews when my depression was trashing my delivery but y'know I wasn't delivering.\"\n",
      " \"I just started a new job last week hence a lot of don't know's\"\n",
      " \"In addition to my own mental health issues I've known several coworkers that may be suffering and I don't know how to tell them I empathize and that I want to help.\"\n",
      " 'Thanks for doing this research.'\n",
      " \"In Russia we have mandatory medical insurance. Every employer must pay 3.6% of every employee's salary to the insurance fund like a tax. Everyone gets free healthcare at public clinics and hospitals. Some types of healthcare including mental health are still funded from the government budget but that doesn't matter it's still FREE!However this is Russia :D I don't know much about what actually happens in mental hospitals here except that a lot of young people with male in their passports use these to avoid military draft and doctors seem to help them.\"\n",
      " \"In my previous workplace which had mental health protections policies and access to counsellors my Director went so far as to say to me in somewhat casual conversation A woman was murdered across the street. At best though she was bipolar and at worst - who knowsI have bipolar disorder. I have zero faith that an organization with policies in place could appropriately handle mental health. I have even less faith that a workplace without the policies in place could appropriately handle mental health. I can only imagine it's worse in full tech environments.\"\n",
      " \"I've seen negative consequences towards mental health conditions in previous workplaces.Working remote is empowering in this way.\"\n",
      " \"I'm not a permanent employee so do not get they benefits they get.My client is extremely supportive of permanent staff with mental health issues.\"\n",
      " \"I'd be more worried about coworkers and workplace culture than the employer--they're probably legally obligated to do some things but reputation among people I work with is something else. For instance I've heard people make snide remarks about men taking paternity leave I don't want to know what they'd say about mental health leave.\"\n",
      " \"Had a co-worker disappear from work for a few weeks and then come back to let everyone know he was bipolar. His responsibilities and schedule were adjusted to accommodate but he got worse didn't show up didn't work etc and was eventually let go.It was tough because on the one hand he was struggling with some mental health issues but on the other hand he went through a period of months where he wasn't performing.\"\n",
      " \"Family history of depression.  Currently dealing with depression and anxiety as well as drug addition.Employer provides & pays premiums on insurance which covers therapy and prescriptions.  Employer allows work-from-home and unlimited PTO which makes episodes easier to control.I don't speak of my problems to anyone at work except for the people that I consider friends and even then I don't go into great detail.I would never bring up a mental health issue during an interview for fear of discrimination and rejection (and therefore greater depression).  One co-worker had serious anxiety problems and would not inform his team of episodes and was eventually let go for being unresponsive.\"\n",
      " 'I feel that my employer and colleagues have created my mental health issue. Additionally I have contributed to this by staying in the same job with the same employer for 10+ years.'\n",
      " \"Many of these questions become irrelevant once 'Yes' is selected for 'Are you self-employed'.  It would be preferable for there to be a 'Not Relevant' option on these.\"\n",
      " \"as a UK-based company we don't have any medical provisions as it's all provided on the National Health Service (for now!) However if we do need to take days off for any kind of health problems everyone is understanding :)\"\n",
      " 'My employer employs 17k people worldwide and my previous employer only 140 globally both have been very supportive and accommodating with my moderate depression and intense anxiety.'\n",
      " \"I am not sure about my company's healthcare because I've opted out of it and I'm covered under another policy.I currently work at a great company though in past jobs I don't think I would have felt comfortable talking about mental health at all.\"\n",
      " 'In small startups it is very hard to keep mental health issues truly private no matter what management does.'\n",
      " 'A close family member of mine struggles with mental health so I try not to stigmatize it. My employers/coworkers also seem compassionate toward any kind of health or family needs.'\n",
      " \"Too many people even especially IT considered mental health issues as a choice or something people can freely act about. You are depressed: take vacation. You feel weird: admit it is physical (otherwise it is not serious) go and see a doctor (and if you are on sick leave too many days you will get fired). You don't feel good today: take a holiday but don't work from home. In startup there is what I call the tyranny of happiness: you have to look happy to be accepted and to be worked with. At some point playing a role can definitely make the mental health issue worse and it is also a threat to diversity :(I don't like to call mental health issues an issue but actually when it comes to company field it too often becomes an issue and this is sad because working is sometimes better than medication. It is a vicious circle: people are scared of speaking about it so they don't inform their coworkers about what mental health is for real and so coworkers are so scared on a regular basis that the people with mental health issues keep it for themselves. \"\n",
      " \"My seniority at the company and rapport with the owners has helped me gain support for seeking help regarding my mental health as well as being able to take time off or work from home when an episode starts.However I don't feel that the company's stance on mental health is as clear as say something like vision or dental.  There's very much a stigma.\"\n",
      " \"When you are an introvert people don't notice if you are depressed. Its a vicious cycle of sorts.\"\n",
      " \"I've answered 'Yes' on remote working but 50% is the maximum time we're allowed.The branch of the company I work for doesn't offer any medical benefits. It's not as common in the UK as we have the NHS for the moment. There are international branches that may so I've answered 'Don't know'.\"\n",
      " 'Many of these questions were difficult to answer as a self-employed person; I did my best with the available options.'\n",
      " \"I tried to answer as good as possible but I am CEO of a company so many questions don't fit very well.Also many of the questions are very US-centric in most systems healthcare is not your employers business.\"\n",
      " \"One of my coworkers has mental health issues and she's open about them (eg: my enjoyment of this project may be due to my recent change in meds). I believe the response has been generally supportive. We're a very small tight-knit company.\"\n",
      " 'A strong mind goes a long way. Stay strong. Take some time off to help. Its all in your head. '\n",
      " 'Would you bring up a mental health issue with a potential employer in an interview?Poignant.'\n",
      " 'I found it difficult to answer all of the questions effectively as many of them would depend on the nature of the mental health issues as some seem more socially accepted than others. For some people telling your current supervisor that you have a history of bi-polar disorder might be easier than telling a potential employer that you have a history of compulsive gambling. They might both be bits of irrelevant information (past behavior and not indicators of future behavior). However western culture pushes us to appear as capable as possible to our supervisors in pursuit of excellence in our work. Providing information that could create a negative bias seems like a more genuine and yet more risky approach to the discussion.'\n",
      " 'I have only discussed my mental illness with close family members. I feel completely uncomfortable discussing with anyone at my place of employment as I am concerned it would have negative consequences.'\n",
      " 'No benefits at this organization but my employer/direct supervisor has had positive and constructive conversations with me about physical and mental health. Supervisor offered solutions advice time/energy to get help if I ever felt that needed it. (though it would have to be at my own expense). I feel safe sharing personal info with this particular person/company but this environment is the exception rather than the norm in my 15+ years as a tech worker. I would never feel safe enough to reveal info about any mental health concerns with any previous employers in the tech industry for fear of  negative perceptions job loss performance dings etc. '\n",
      " 'I think I am very lucky in my workplace. Our CEO has a degree in psychology.'\n",
      " \"Some of these questions were difficult to answer as being self-employed they didn't all apply to me.\"\n",
      " \"It's a small startup in a small city in a small country.\"\n",
      " \"Hi Ed it's Paul Dragoonis. I have Aspergers/High Functioning Autism :-)\"\n",
      " 'The form of mental health problem that I suffer is anxiety.'\n",
      " 'The thought of going through my employer directly to get help is fucking scary.Getting help is the hardest part of getting help.'\n",
      " \"Don't know because I haven't checked not because it's difficult to find out. If you didn't have the don't know option I would've looked up the answer.\"\n",
      " \"I think there might be some bugs in my thought but I haven't sought treatment because they're not worse than annoying and I worry about having the label.\"\n",
      " \"I think a lot of our policy is based on a situation that occurred in the past 5 years. A very public mental illness happened with a coworker that unfortunately ended negatively. It was definitely a catalyst to talking about our options but the overall sentiment of it being OK to take time off talk with your supervisors etc. has always been there. It's a great company.\"\n",
      " \"Regardless of a stated lack of negative consequences for discussing mental health issues with coworkers/superiors unconscious bias is a very real thing - as long as I don't *need* to inform my co-workers my mental health issues do not need to be public knowledge.\"\n",
      " 'YOU MAY WANT TO THROW OUT MY ENTRY.I answered all of these questions with the assumption that Attention Deficit Disorder is considered a mental illness and with ADD in mind.'\n",
      " 'In Belgium we have all medical care so perhaps some question are not relevant'\n",
      " \"A co-worker recently had mental health issues and my employer was very reasonable with them I don't know the full story but I do know that he was given ample time off and eased back in to the work place.\"\n",
      " 'My refer to the mental health issue of depression.  I might answer differently if I was talking about a more serious issue like schizophrenia'\n",
      " 'My employer does what they can providing a wellness program and pointing it out after particularly stressful times. But the interaction between the wellness program and the medical insurance is unpleasant and finding a long-term therapist / psychiatrist covered by insurance is amazingly difficult. My current lack of active treatment is due to insurance friction more than workplace friction.'\n",
      " 'I work for a university.'\n",
      " \"Being in Canada there are several health options that are available to Canadian citizens/perm residents for free so employers may not provide resources because they are available elsewhere. Otherwise good quiz. I hope this benefits everyone who's dealt with mental health issues in the past!\"\n",
      " \"I'm troubled by the way that our hiring process tends to filter out non-neurotypicals of all stripes. Competent people who act a little funny can be hard to hire.\"\n",
      " \"In Germany your employer doesn't really provide mental health benefits. There's a standard and I get that but I would get the same at any other company in Germany.\"\n",
      " \"fwiw I am a co founder of this company and the would you X in an interview questions shouldn't reflect how I would treat anyone addressing their own phys/mental health issue to me in such a situation. \"\n",
      " \"I talked to a psychiatrist once about taking medical leave for mental health issues with his referral. He was willing to help but warned me that I may not want to as he's seen that sort of thing follow people throughout their tech careers (word gets out even if it's confidential at work). I've been terrified of bringing mental health up anywhere that coworkers or potential employers could see ever since.\"\n",
      " 'So much depends upon the organization. '\n",
      " \"Now at starutp.  Previously worked at big tech company which was actually quite good at supporting mental health issues.  Still wouldn't share with bosses/other employees though as there remains a strong negative stigma.\"\n",
      " 'Nice job on the text field for gender :-)'\n",
      " \"I currently have the best managers I've ever worked with. I don't have any issues but one of my coworkers recently did and it was handled extremely well. \"\n",
      " 'you rock for doing this!' \"I don't have a job :D\"\n",
      " \"Israel has public health insurance for everyone. Everyone has free mental health coverage and it's quite good. So that explains some of my answers.\"\n",
      " \"Stigma is the worst. People first language is a small step but we can't get that right.\"\n",
      " '-'\n",
      " 'I work for an extremely supportive company and we are amazingly open about mental health issues. Employees often share their struggles with the whole team and receive a high level of support in return.'\n",
      " 'I bring up my depression in interviews solely because I have a large gap on my CV due to mental health issues which could be mistaken for a gap taken to say have children which I feel would harm my chances much more. I have other MH issues I would never bring up with employers or peers.'\n",
      " \"I'm not aware of anyone with mental health issues at work it's definitely not something that's discussed publicly. There's also a lot of other personal info I don't know about my coworkers so it may just be that we tend not to talk about personal issues.\"\n",
      " 'I suffer from mild depression and anxiety.'\n",
      " \"The family history question needs a don't know option.\"\n",
      " \"I'm afraid I haven't seen mental health issues arise at work yet. They are very accommodating with maternity leave but I don't know how that translates to anything else.\"\n",
      " 'Mental health issue I have dealt with: acute depression'\n",
      " 'Thanks for doing this. It will help end the stigma!'\n",
      " 'For clarity I work at a casino.'\n",
      " 'Most employers / coworkers and even immediate family is not all the time supportive to discuss depression and other problems. ie. My wife thinks she should be able to make sure that I am not depressed  which is funny because sometimes depression state has nothing to do with her. '\n",
      " 'It has come to interfere with work as life progresses.Between burn out and enduring more of the work and balancing a family. Changes in my mental health have a larger pond to make ripples in.'\n",
      " 'The supposed divide between mental and physical health needs to done away with and probably will be as our knowledge of the brain increases. That said we are often employed for our ability to provide value. If any issue prevents is from providing value that creates a very real challenge for the employer who is responsible to shareholders and other team members who are providing value. There are no easy answers here.'\n",
      " \"Because I'm self-employed and the only person in my organization I would have liked a not applicable option. I don't want my answers to be misleading.\"\n",
      " \"I work for a very small firm that doesn't really have a dedicated H/R person. Also for the question:If you have a mental health condition do you feel that it interferes with your work?...I don't have a diagnosed mental health condition but I suspect I might have some slight depression issues. Definitely have Imposter Syndrome.\"\n",
      " \"I went through a divorce and was pretty depressed I went to therapy and my boss (one of the owners) was extremely supportive. I'm not sure I would have got through that rough time with out my co-workers and boss.\"\n",
      " \"I'm diagnosed with Bipolar Disorder. My benefits for mental health exist but are terrible. The deductible is $800. I see a therapist once or twice a month at the cost of $150. The insurance company only values it at $40. My psychiatrist is $180 for 15 minutes. The insurance company values it at $80. It is IMPOSSIBLE to hit my deductible. I don't even bother making the claims.\"\n",
      " \"We don't fucking talk about it ever.\"\n",
      " \"thanks for what you're doing. FYI these questions dont quite work for entrepreneurs where employer == cofounders / sr mgmt / me\"\n",
      " 'Majority of qs on survey not relevant if you are self employed'\n",
      " \"I mostly suffer from social anxiety which keeps me from attending conferences. In my small dev group a big problem is a supervisor who's a workaholic and will never say no when asked to do something so he's doing the job of at least two ppl (poorly) and working crazy hours setting the tone for the test of us that work/life balance isn't important.\"\n",
      " \"I don't have any mental health issues but for a number of years I had to care for a family member who did and I felt that I was not able to discuss or get support from friends or colleagues in the same way that I might have if they had suffered from a physical condition.\"\n",
      " 'I am a contractor so my lack of knowledge of workplace wellness stems directly from my lack of access to that material since I am not covered by it. I am aware that mental health services are available and am aware of a colleague who has taken a leave of absence to deal with mental health issues but am otherwise uninformed.'\n",
      " 'Fully remote developer'\n",
      " \"We had a developer suffer from depression and pretty hard burnout but he refused treatment even when the company said we'd foot the bill. Eventually he had to be asked to resign which was a shame. I don't know if we have any specific programs for mental health but we're definitely on the lookout for those types of issues.\"\n",
      " \"I am a 15 year vet of the industry and I get 2 weeks of combined sick and vacation time a year and I have children to fit into that too. I've had heart problems from the stress. Fuck everything about startup culture. \"\n",
      " 'Italians are somewhat behind for what concerns mental health care in the workplace.  Physical health care is very much accepted with a doctor that certifies your ailment.  Mental health is treated quite differently I believe because most people are willing to admit that physical ailments should be covered while mental ailments are almost considered non-existent in most respects.  '\n",
      " \"Since I am the CEO of my startup some of the would you feel comfortable and do you know the policy questions are interesting.  Of course I feel comfortable since no one can fire me and I know the policies because I chose them!However now I am curious if my employees know just how supportive the company would be of their mental health needs and this survey is making me realize that we probably haven't done a great job communicating that to everyone.  Thanks for doing this.\"\n",
      " \"I work for the state so the health plan is large and cumbersome.  I believe it covers most medical as a state benefit but I haven't seen any promotion of it.  And it's not really the same as a tech company where I am.  We are an IT department but hardly run like any tech company around.\"\n",
      " 'I have Narcolepsy and have been fired from a job before for falling asleep standing up during a meeting. I was standing up in the back of the room so that i could pace and try to prevent myself from falling asleep. I still managed to fall asleep while standing and fell over against the wall. I was fired the next day. The worst part is this is a condition i had given months of notice about to my boss and i reminded her of it before the meeting. I worked at a hospital at the time. I would have thought that they would be more accommodating.'\n",
      " \"I feel like most of my answers were useless due to answering that I am self-employed early on. Since my employer is me... my employer does/doesn't offer mental health benefits or would I be comfortable bring it up with 'them' doesn't make sense...\"\n",
      " \"My current work situation was constructed in part because of my mental health issues. One of the reasons I'm self employed is to give me the most flexibility for coping with my mental health issues.I have been removed from a client project in the past because of a mental health condition. This was while I was an employee for a large consulting company. \"\n",
      " 'Some of these questions are not really suitable for non US people.'\n",
      " \"I work for the state government. While things are slowly changing regarding covering mental health with state employees it's just not something that is acceptable in this kind of strict environment so I have to be careful about what I say and how I say it. I often take mental health days but have to call in with a physical illness because mental health problems are not acceptable excuses for using sick leave.\"\n",
      " 'Thank you for your work what you do is important!'\n",
      " \"It might be safe to talk about it where I am now but I don't know for sure and I err on the side of being over cautious. Struggle with depression and anxiety which sometimes affects my productivity but I try to make up / cover up for it instead of being open about it.\"\n",
      " \"I'm comfortable talking about mental health with my current supervisor & my immediate at my current job but this is a first for me!\"\n",
      " 'None of us who are already in marginal groups in tech--the non-young the non-male the non-white--will risk our careers to admit another source of stigma: poor health.'\n",
      " \"I have been incredibly public about my own struggle in my own conversations and in social media insofar as how I can use my depression to raise awareness or help others. Because of that my employer - or any future employer - kind of knows by default. It's not a secret. That said the downside of that openness is that I have no faith that I wouldn't be discriminated against at a future job simply because the information is public. Likewise I worry I'm seen as less-than by my employer in some circumstances. Regerdless I don't regret being public and raising awareness. My point is that even those of us who do publicly discuss the issue fear systemic retribution. \"\n",
      " 'At a previous employer I witness a bad thing happen to a coworker with mental health issues get swept under the rug... :('\n",
      " 'While not personally affected I do have immediate family with mental health illness and my employer has been very supportive. Thanks for doing this survey.'\n",
      " \"The company I work for was started by engineers and so anything other then the engineering department has always lacked a bit. Now that we've grown things are better but I feel that overall our total benefits package (including healthcare) isn't well communicated. This reflects negatively on the mental health questions above but would also reflect negatively on any other sort of survey about the benefits. That is I don't think the company is purposefully doing less for mental health. They just aren't doing enough across the board and that includes mental health.\"\n",
      " 'Thank you for all you are doing to study this topic and raise awareness in our communities. '\n",
      " \"The main reason for the openness answers are because of an experience with my last employer. I felt I could trust my direct supervisor so I divulged information. It ended up spreading to more supervisors and eventually my coworkers. Supers highly suggested treatment but rushed things that shouldn't have been rushed and I ended up being incorrectly treated in a psych ward and mentally scarred from the issue. I lost most of my desire to program due to the experience not to mention thousands of dollars I lost - lost work time vacation time they used for treatment time doctors expenses etc. I have major depressive disorder high anxiety and mild agoraphobia. After seeing what treatment has to offer I will likely not seek it again and continue as is. (Long story short.)\"\n",
      " '(yes but the situation was unusual and involved a change in leadership at a very high level in the organization as well as an extended leave of absence)'\n",
      " \"I would add that while there were negative consequences for coworkers with mental health they were given a HUGE amount of leeway.  I think the team at large tried their best to be kind but that's how the person suffered.  The company actually gave this person a lot of help.  Which was cool.  But the team still discriminated.\"\n",
      " 'Bipolar spectrum is tricky.'\n",
      " 'To be self employed helps but also brings you in touch with lots of new people that you might have to explain yourself to.'\n",
      " \"A lot of these answers aren't really applicable since I'm self employed as a sole proprietor.\"\n",
      " 'While I have not seen any direct retaliation against people with known mental illness many people do freely use insults commonly associated with mental illness (r****d for example) and criticize people behind their back for taking extra leave for doctor appointments (Oh I bet they are just hung over or other comments about how lazy they are.)'\n",
      " \"My employer gives access to basic counseling and referrals but I don't know (and it's not obvious) what might be covered in the way of expenses for therapy medication etc.\"\n",
      " '* Small family business - YMMV.'\n",
      " \"I have an exceptional employer. I haven't run into problems with any employer I've had but consider myself lucky.\"\n",
      " 'Some of these should not be required.'\n",
      " \"Though I'm in the Netherlands and chose that country from the list quite some questions are strongly geared towards the US. Over here people don't need benefits from their employer because we pay enough taxes for the government to pay for treatment of any physical or mental condition. We don't need employer approval for medical leave; that's something a qualified medical professional decides (and while on leave we still get paid our salaries something the employer can get insurance for). I answered yes to questions about these things meaning it's covered not it's covered by my employer.\"\n",
      " \"I am a Trans woman and suffer from depression relating to that. I'm a contractor so I've answered the questions as relating to my current contract.\"\n",
      " 'Thank you for shining a light on this topic.' ' '\n",
      " 'While mental health is a part of our insurance program the UCR is 50% of 140% of medicare which means a solo mental health practitioner who will charge in my area $150-$180 a session will only result in a $45-$60 reimbursement and thus a very high out of pocket expense. This usage of a different schedule for UCR and often the lower rate is very hard to determine before purchasing insurance even in the new health insurance exchanges.'\n",
      " 'My work is using my brain. I do it incredibly well.I make an effort to avoid diagnosis of anything mental health related because I am convinced it would only affect me negatively.'\n",
      " \"My employer is extremely easy to work with and e.g. I have enormous leeway with flex time so I could take care of myself under that umbrella but I don't know and don't have a history of bring up mental health at the workplace so I am cautious in that area.\"\n",
      " \"The questions related to employer-provided health benefits are largely irrelevant to where I live Australia so I'd discount them.\"\n",
      " 'I suffered of panic attacks and agoraphobia for about 10 years.'\n",
      " \"These result may be a tad confusing so a summary follows.* Currently self-employed so employer is me :)* Last place of employment was amazing when I first discovered I was bi-polar and helped me as long as I was there up to and including a mental health course for the whole team (although no mention why to others which was great).* I've never had a negative reaction yet but I know others who have.* I've been very lucky with company I keep which is why my experience is largely good.\"\n",
      " 'I should note one of the places my employer fails with regards to mental health is that the company-paid health insurance policy does not cover trans healthcare needs.'\n",
      " 'Thank you this is very important.'\n",
      " \"I've never heard of a workplace that would actually allow you to call off for mental health reasons. So many places require a doctor's note for calling off sick. It's all set up to make you feel worse if you can't just suck it up. Thanks for working to change this!!!\"\n",
      " 'This survey was tough as a self-employed individual. You may wish to discard responses from self employed people for much of your analysis.'\n",
      " \"I answered based on previous job at large technical company where I was pushed out of my role within 3 months of disclosing diagnosis.I had been struggling for 3 months prior to disclosure and was incredibly relieved when finally diagnosed. Growing up in a family open about mental health and also at the end of my rope I immediately shared with management what was going on. I requested a temporary reduced workload so I could reduce anxiety. (At time I didn't know it was anxiety as took me a year to accept that the (to me) deserved stress was anxiety caused by my core diagnosis.) When disclosing I didn't deeply understand details of the state of my mental health; I simply knew I was so stressed out by having been unable to get myself to do work in three months that I couldn't juggle all that was currently on my plate.It was at this point my direct manager and I began an almost daily struggle. After working on a single project and making progress (compared to 3 months before diagnosis when management didn't even know how bad I was doing) I requested increasing my workload. This was never granted; boss said I hadn't proved myself and implied I could not be trusted.Two huge issues stick out to me from that experience:1) Company assumes things would be better and back to 100% within months. They did not understand what one goes through when figuring out meds: things at times got worse. They did not understand how long it takes until meds are figured out: mine took two years. They most certainly would not truly understand why to this day four years later despite being stable I'm in counseling every other week in addition to being on meds. Rather than supporting that it would be seen as oh I'm sorry. I was a problem to my manager because he didn't see improvements each week.2) Accomodations.- There was no option for me to reduce work temporarily to part-time (too complicated). Instead they pushed me to take disability leave. I told them that wouldn't help; they told me to double-check with care providers. That required me to see a psychologist unnecessarily as psychologist said I didn't qualify for leave. (Expensive unnecessary appointment).- The assistance I needed the most at work was understanding: I was open but my manager told me to not tell my co-worker assigned to support me. That was disasterous for colleague's stress/frustration levels. He knew something was up but was barred from asking and I was implied it was better to keep my mouth shut.- Accommodations weren't understood by even Benefits as they're not trained in mental health nor do they have people come in to assess how they're doing in supporting those with mental health issues. Should be no different than people coming in to assess for physical accessibility of the workplace. When in a meeting with my manager supervised by HR I shouldn't feel like I'm asking too much of manager when requesting he put the negative critiques on the back burner and help me figure out whether I'm doing anything right. That this didn't stop him from coming into my office that same day and putting on my dick hat to yell at me for something that wasn't even my fault (he had brought in co-worker for this yelling and turned to finish yelling at this person): FUCKING UNACCEPTABLE.While I will never return to that company and as such took the severance package I will NEVER agree with their legal reason for being unable to do the job: me being medically disqualified from this role. I was too expensive in the short term for them; I'm not worth the cost.\"\n",
      " 'If a man in tech is afraid of speaking up about these things it is even worse for women in tech who are already fearful of and fighting against the stigma of incompetence.  On the other hand if a female in tech does not commiserate with her male coworkers on mental health problems she will no longer be seen as a team player. It is really a catch-22 for women in STEM.'\n",
      " \"Autism is a bitch for those living with it and living it. For the past years I've really been working hard to get myself (known) in the community. The people in the community that know can be counted on one hand. In general I'm not telling anyway unless it really matters and it would be a gain in some way or the other. Not because I don't trust the community members close to me but because I don't want to be that guy. And IMHO it doesn't and shouldn't matter but sadly some people are funky about that. Yet sometimes I wan't to tell everyone what I've been through and share my lessons learned.\"\n",
      " 'This issue for me is very real at the moment. I have missed several days of work recently because of a bad reaction to a depression/anxiety drug and I hate not being able to discuss it with my boss without worrying that I will be labeled a liability. '\n",
      " 'Really manager dependent. I have had managers who work with my strengths and others who want my to work on my weaknesses which are directly tied to my mental issues. '\n",
      " \"Though it doesn't affect me (male) good job for making the Gender field a text input instead of a drop down of only two options.\"\n",
      " \"I was (wrongly) diagnosed clinically depressed at 12 then bipolar I at 15 and medicated for a decade until decided myself to go drug free. Since then I've never been happier. Insomnia and my insatiablility for learning and programming have always had a symbiotic  relationship.It might also bear mentioning that I'm self-employed in addition to my more traditional day job.\"\n",
      " 'My employer currently does not offer any health insurance I have to get that on my own.  However at past positions I have had health insurance but no one ever mentioned mental health issues nor would I wish to discuss those with my co-workers bosses etc for fear of negative reception.'\n",
      " 'Mental health at work is not an issue if you leave work problems at work that may be easier for those of us not in a support role.'\n",
      " 'password: testered' 'suffer from CR-PTSD so all answered based on that'\n",
      " \"Since being advised by Occupational Health that the tempo and spontenaity of the office environment was likely to have a negative effect on my mental health (I'm schizoaffective) I've been moved to 100% remote (home) working. The company have furnished a home office for me and I am only required to attend the office once a month to keep in touch\"\n",
      " \"Despite the impression that several 'no' responses might give my employer has been very supportive. But then I work in health care.\"\n",
      " \"When I've had a depression I was lucky to have an awesome manager who was very understanding and found a budget to pay for my therapy sessions.\"\n",
      " 'People have often felt uncomfortable with my story while most of it happened a decade ago. I used to be quite open about it and have since kept it quietly tucked away. While I sometimes have waves of depression I have learned to cope with the affects.'\n",
      " \"I burnt out this year. I worked too much had too much pressure on myself from being the sole developer on a delayed project that seemed to grow in size with each week it was delayed by and worried about money a lot.I became depressed and anxious and had trouble eating sleeping and generally being myself. As my depression worsened I was regularly late for work couldn't perform as well as I should and became irritable with my colleagues.My employers response after a while was to send me private messages complaining about my lateness which only worsened the situation. I was prescribed 3 weeks off work by my doctor which my employer agreed to only to come back after to find I had been on 'statutory pay' which was roughly half of what I was expecting and was not enough to cover my rent bills AND food. This made me worse and sent me into another depression until I eventually admitted defeat gave up working and left the company. It took me months to recover and I'm now left (over 6 months after this all started) recovering from the fallout I created leaving employment with hardly any money to my name.I had previously been told by my employer that I was too young to burn out and (stupidly) trusted them. I did not feel comfortable discussing my problems with my employer because each time I was met with an attitude that I had to get myself together and ultimately given the amount of employees before me who had left the company by being fired after an altercation with the employer left me with no option but to hide it from them so I too wouldn't be fired.\"\n",
      " \"I'm self-employed on contract with small start-up. Covered through spouse's insurance.\"\n",
      " \"My mental health issues were the direct result of the trauma from childhood abuse. Most (all?) of the Prompt-sponsored/related presentations I've seen have been about congenital mental health issues that are treatable with continued medication. For me medication only provided temporary assistance. I needed years of (continuing) therapy to deal with PTSD and related disorders (depression anxiety suicidal tendencies others). I haven't seen many in our community discussing trauma-related mental health issues but they are just as real and just as debilitating.\"\n",
      " 'it is my opinion that bad mental health is a red flag for employers and i would never bring it up.'\n",
      " \"I openly discuss my mental health struggles. I have found that doing so encourages people who also struggle to seek treatment. I'm willing to risk losing the support of people who don't understand if it helps those who understand all too well.\"\n",
      " \"Just starting a new job hence the numerous I don't know selections.\"\n",
      " \"The data will be skewed for self-employed people as the questions contain some bias.Having said that: being self-employed I *choose* to work for companies which want to employ *me* not just my skills but including my opinions my life-experience etc. If a potential contract/job doesn't *feel* right I prefer to not take it (and be poor) than to compromise myself.\"\n",
      " 'Although my employer does everything they can to accommodate employees with mental health problems when those individuals cannot carry out any work assigned to them (even over the course of months) they appear to have no alternative but to terminate their employment. However I believe this would be the same for a physical health problem. '\n",
      " 'I work at a large university with a track record of health and wellbeing support'\n",
      " \"i'm in a country with social health care so my options are not dependant on my employer. this makes a few of the early questions less relevant than they would be for a resident of the US.\"\n",
      " \"In australia all organisations of a certain size have to provide free access to a 'employee assistance program' to discuss work and personal issues.EAPs are an external provider totally confidential and anonymous (ring up andsay the name of who you work for - so they know to bill your work)  and they offer phone and face to face consults.\"\n",
      " 'Bipolar disorder ']\n",
      "____________________________________________________________________________________________________\n"
     ]
    }
   ],
   "source": [
    "# Check Unique Values for each variable.\n",
    "for cols in df.columns:\n",
    "    print(f\"Column: {cols}\")\n",
    "    print(df[cols].unique())\n",
    "    print(\"_\"*100)"
   ]
  },
  {
   "cell_type": "markdown",
   "metadata": {
    "id": "dauF4eBmngu3"
   },
   "source": [
    "## 3. ***Data Wrangling***"
   ]
  },
  {
   "cell_type": "markdown",
   "metadata": {
    "id": "bKJF3rekwFvQ"
   },
   "source": [
    "### Data Wrangling Code"
   ]
  },
  {
   "cell_type": "code",
   "execution_count": 59,
   "metadata": {
    "id": "wk-9a2fpoLcV"
   },
   "outputs": [],
   "source": [
    "# Write your code to make your dataset analysis ready.\n",
    "# The 'Gender column has many inconsistencies. We will first handle them\n",
    "Male = ['male','m','male-ish','maile','something kinda male?','cis male','mal',\n",
    "        'male (cis)','make','guy (-ish) ^_^','male','man','msle','mail','cis male',\n",
    "        'malr','cis man']\n",
    "Female = ['female','cis female','f','woman','femake','cis-female/femme',\n",
    "          'female (cis)','femail']\n",
    "df['Gender'] = df['Gender'].apply(lambda x: 'Male' if str(x).strip().lower() in Male\n",
    "                                  else 'Female' if str(x).strip().lower() in Female\n",
    "                                 else 'Others')"
   ]
  },
  {
   "cell_type": "code",
   "execution_count": 60,
   "metadata": {},
   "outputs": [
    {
     "data": {
      "text/html": [
       "<div>\n",
       "<style scoped>\n",
       "    .dataframe tbody tr th:only-of-type {\n",
       "        vertical-align: middle;\n",
       "    }\n",
       "\n",
       "    .dataframe tbody tr th {\n",
       "        vertical-align: top;\n",
       "    }\n",
       "\n",
       "    .dataframe thead th {\n",
       "        text-align: right;\n",
       "    }\n",
       "</style>\n",
       "<table border=\"1\" class=\"dataframe\">\n",
       "  <thead>\n",
       "    <tr style=\"text-align: right;\">\n",
       "      <th></th>\n",
       "      <th>Timestamp</th>\n",
       "      <th>Age</th>\n",
       "      <th>Gender</th>\n",
       "      <th>Country</th>\n",
       "      <th>state</th>\n",
       "      <th>self_employed</th>\n",
       "      <th>family_history</th>\n",
       "      <th>treatment</th>\n",
       "      <th>work_interfere</th>\n",
       "      <th>no_employees</th>\n",
       "      <th>...</th>\n",
       "      <th>leave</th>\n",
       "      <th>mental_health_consequence</th>\n",
       "      <th>phys_health_consequence</th>\n",
       "      <th>coworkers</th>\n",
       "      <th>supervisor</th>\n",
       "      <th>mental_health_interview</th>\n",
       "      <th>phys_health_interview</th>\n",
       "      <th>mental_vs_physical</th>\n",
       "      <th>obs_consequence</th>\n",
       "      <th>comments</th>\n",
       "    </tr>\n",
       "  </thead>\n",
       "  <tbody>\n",
       "    <tr>\n",
       "      <th>143</th>\n",
       "      <td>2014-08-27 12:39:14</td>\n",
       "      <td>-29</td>\n",
       "      <td>Male</td>\n",
       "      <td>United States</td>\n",
       "      <td>MN</td>\n",
       "      <td>No</td>\n",
       "      <td>No</td>\n",
       "      <td>No</td>\n",
       "      <td>NaN</td>\n",
       "      <td>More than 1000</td>\n",
       "      <td>...</td>\n",
       "      <td>Don't know</td>\n",
       "      <td>No</td>\n",
       "      <td>No</td>\n",
       "      <td>Some of them</td>\n",
       "      <td>Yes</td>\n",
       "      <td>No</td>\n",
       "      <td>No</td>\n",
       "      <td>Don't know</td>\n",
       "      <td>No</td>\n",
       "      <td>NaN</td>\n",
       "    </tr>\n",
       "    <tr>\n",
       "      <th>364</th>\n",
       "      <td>2014-08-27 15:05:21</td>\n",
       "      <td>329</td>\n",
       "      <td>Male</td>\n",
       "      <td>United States</td>\n",
       "      <td>OH</td>\n",
       "      <td>No</td>\n",
       "      <td>No</td>\n",
       "      <td>Yes</td>\n",
       "      <td>Often</td>\n",
       "      <td>6-25</td>\n",
       "      <td>...</td>\n",
       "      <td>Don't know</td>\n",
       "      <td>Maybe</td>\n",
       "      <td>No</td>\n",
       "      <td>Some of them</td>\n",
       "      <td>No</td>\n",
       "      <td>No</td>\n",
       "      <td>No</td>\n",
       "      <td>No</td>\n",
       "      <td>No</td>\n",
       "      <td>NaN</td>\n",
       "    </tr>\n",
       "    <tr>\n",
       "      <th>390</th>\n",
       "      <td>2014-08-27 15:24:47</td>\n",
       "      <td>99999999999</td>\n",
       "      <td>Others</td>\n",
       "      <td>Zimbabwe</td>\n",
       "      <td>NaN</td>\n",
       "      <td>Yes</td>\n",
       "      <td>Yes</td>\n",
       "      <td>Yes</td>\n",
       "      <td>Often</td>\n",
       "      <td>1-5</td>\n",
       "      <td>...</td>\n",
       "      <td>Very difficult</td>\n",
       "      <td>Yes</td>\n",
       "      <td>Yes</td>\n",
       "      <td>No</td>\n",
       "      <td>No</td>\n",
       "      <td>Yes</td>\n",
       "      <td>No</td>\n",
       "      <td>No</td>\n",
       "      <td>Yes</td>\n",
       "      <td>NaN</td>\n",
       "    </tr>\n",
       "    <tr>\n",
       "      <th>715</th>\n",
       "      <td>2014-08-28 10:07:53</td>\n",
       "      <td>-1726</td>\n",
       "      <td>Male</td>\n",
       "      <td>United Kingdom</td>\n",
       "      <td>NaN</td>\n",
       "      <td>No</td>\n",
       "      <td>No</td>\n",
       "      <td>Yes</td>\n",
       "      <td>Sometimes</td>\n",
       "      <td>26-100</td>\n",
       "      <td>...</td>\n",
       "      <td>Somewhat difficult</td>\n",
       "      <td>Yes</td>\n",
       "      <td>No</td>\n",
       "      <td>No</td>\n",
       "      <td>No</td>\n",
       "      <td>No</td>\n",
       "      <td>Maybe</td>\n",
       "      <td>Don't know</td>\n",
       "      <td>No</td>\n",
       "      <td>NaN</td>\n",
       "    </tr>\n",
       "    <tr>\n",
       "      <th>734</th>\n",
       "      <td>2014-08-28 10:35:55</td>\n",
       "      <td>5</td>\n",
       "      <td>Male</td>\n",
       "      <td>United States</td>\n",
       "      <td>OH</td>\n",
       "      <td>No</td>\n",
       "      <td>No</td>\n",
       "      <td>No</td>\n",
       "      <td>NaN</td>\n",
       "      <td>100-500</td>\n",
       "      <td>...</td>\n",
       "      <td>Somewhat easy</td>\n",
       "      <td>No</td>\n",
       "      <td>No</td>\n",
       "      <td>Yes</td>\n",
       "      <td>Yes</td>\n",
       "      <td>No</td>\n",
       "      <td>No</td>\n",
       "      <td>Yes</td>\n",
       "      <td>No</td>\n",
       "      <td>We had a developer suffer from depression and ...</td>\n",
       "    </tr>\n",
       "    <tr>\n",
       "      <th>989</th>\n",
       "      <td>2014-08-29 09:10:58</td>\n",
       "      <td>8</td>\n",
       "      <td>Others</td>\n",
       "      <td>Bahamas, The</td>\n",
       "      <td>IL</td>\n",
       "      <td>Yes</td>\n",
       "      <td>Yes</td>\n",
       "      <td>Yes</td>\n",
       "      <td>Often</td>\n",
       "      <td>1-5</td>\n",
       "      <td>...</td>\n",
       "      <td>Very easy</td>\n",
       "      <td>Yes</td>\n",
       "      <td>Yes</td>\n",
       "      <td>Yes</td>\n",
       "      <td>Yes</td>\n",
       "      <td>Yes</td>\n",
       "      <td>Yes</td>\n",
       "      <td>Yes</td>\n",
       "      <td>Yes</td>\n",
       "      <td></td>\n",
       "    </tr>\n",
       "    <tr>\n",
       "      <th>1090</th>\n",
       "      <td>2014-08-29 17:26:15</td>\n",
       "      <td>11</td>\n",
       "      <td>Male</td>\n",
       "      <td>United States</td>\n",
       "      <td>OH</td>\n",
       "      <td>Yes</td>\n",
       "      <td>No</td>\n",
       "      <td>No</td>\n",
       "      <td>Never</td>\n",
       "      <td>1-5</td>\n",
       "      <td>...</td>\n",
       "      <td>Very easy</td>\n",
       "      <td>No</td>\n",
       "      <td>No</td>\n",
       "      <td>Some of them</td>\n",
       "      <td>Some of them</td>\n",
       "      <td>No</td>\n",
       "      <td>Maybe</td>\n",
       "      <td>Yes</td>\n",
       "      <td>No</td>\n",
       "      <td>NaN</td>\n",
       "    </tr>\n",
       "    <tr>\n",
       "      <th>1127</th>\n",
       "      <td>2014-08-30 20:55:11</td>\n",
       "      <td>-1</td>\n",
       "      <td>Others</td>\n",
       "      <td>United States</td>\n",
       "      <td>AL</td>\n",
       "      <td>Yes</td>\n",
       "      <td>Yes</td>\n",
       "      <td>Yes</td>\n",
       "      <td>Often</td>\n",
       "      <td>1-5</td>\n",
       "      <td>...</td>\n",
       "      <td>Very easy</td>\n",
       "      <td>Yes</td>\n",
       "      <td>Yes</td>\n",
       "      <td>Yes</td>\n",
       "      <td>Yes</td>\n",
       "      <td>Yes</td>\n",
       "      <td>Yes</td>\n",
       "      <td>Yes</td>\n",
       "      <td>Yes</td>\n",
       "      <td>password: testered</td>\n",
       "    </tr>\n",
       "  </tbody>\n",
       "</table>\n",
       "<p>8 rows × 27 columns</p>\n",
       "</div>"
      ],
      "text/plain": [
       "                Timestamp          Age  Gender         Country state  \\\n",
       "143   2014-08-27 12:39:14          -29    Male   United States    MN   \n",
       "364   2014-08-27 15:05:21          329    Male   United States    OH   \n",
       "390   2014-08-27 15:24:47  99999999999  Others        Zimbabwe   NaN   \n",
       "715   2014-08-28 10:07:53        -1726    Male  United Kingdom   NaN   \n",
       "734   2014-08-28 10:35:55            5    Male   United States    OH   \n",
       "989   2014-08-29 09:10:58            8  Others    Bahamas, The    IL   \n",
       "1090  2014-08-29 17:26:15           11    Male   United States    OH   \n",
       "1127  2014-08-30 20:55:11           -1  Others   United States    AL   \n",
       "\n",
       "     self_employed family_history treatment work_interfere    no_employees  \\\n",
       "143             No             No        No            NaN  More than 1000   \n",
       "364             No             No       Yes          Often            6-25   \n",
       "390            Yes            Yes       Yes          Often             1-5   \n",
       "715             No             No       Yes      Sometimes          26-100   \n",
       "734             No             No        No            NaN         100-500   \n",
       "989            Yes            Yes       Yes          Often             1-5   \n",
       "1090           Yes             No        No          Never             1-5   \n",
       "1127           Yes            Yes       Yes          Often             1-5   \n",
       "\n",
       "      ...               leave mental_health_consequence  \\\n",
       "143   ...          Don't know                        No   \n",
       "364   ...          Don't know                     Maybe   \n",
       "390   ...      Very difficult                       Yes   \n",
       "715   ...  Somewhat difficult                       Yes   \n",
       "734   ...       Somewhat easy                        No   \n",
       "989   ...           Very easy                       Yes   \n",
       "1090  ...           Very easy                        No   \n",
       "1127  ...           Very easy                       Yes   \n",
       "\n",
       "     phys_health_consequence     coworkers    supervisor  \\\n",
       "143                       No  Some of them           Yes   \n",
       "364                       No  Some of them            No   \n",
       "390                      Yes            No            No   \n",
       "715                       No            No            No   \n",
       "734                       No           Yes           Yes   \n",
       "989                      Yes           Yes           Yes   \n",
       "1090                      No  Some of them  Some of them   \n",
       "1127                     Yes           Yes           Yes   \n",
       "\n",
       "     mental_health_interview phys_health_interview mental_vs_physical  \\\n",
       "143                       No                    No         Don't know   \n",
       "364                       No                    No                 No   \n",
       "390                      Yes                    No                 No   \n",
       "715                       No                 Maybe         Don't know   \n",
       "734                       No                    No                Yes   \n",
       "989                      Yes                   Yes                Yes   \n",
       "1090                      No                 Maybe                Yes   \n",
       "1127                     Yes                   Yes                Yes   \n",
       "\n",
       "     obs_consequence                                           comments  \n",
       "143               No                                                NaN  \n",
       "364               No                                                NaN  \n",
       "390              Yes                                                NaN  \n",
       "715               No                                                NaN  \n",
       "734               No  We had a developer suffer from depression and ...  \n",
       "989              Yes                                                     \n",
       "1090              No                                                NaN  \n",
       "1127             Yes                                 password: testered  \n",
       "\n",
       "[8 rows x 27 columns]"
      ]
     },
     "execution_count": 60,
     "metadata": {},
     "output_type": "execute_result"
    }
   ],
   "source": [
    "# Removing inconsistencies in 'Age' Column\n",
    "# Checking for outliers\n",
    "df[(df['Age'] < 18) | (df['Age'] > 80)]"
   ]
  },
  {
   "cell_type": "code",
   "execution_count": 61,
   "metadata": {},
   "outputs": [
    {
     "name": "stdout",
     "output_type": "stream",
     "text": [
      "Percentage outliers 0.64%\n"
     ]
    }
   ],
   "source": [
    "# Percentage of outliers\n",
    "print(f\"Percentage outliers {round((len(df[(df['Age'] < 18) | (df['Age'] > 80)])/len(df))*100,2)}%\")"
   ]
  },
  {
   "cell_type": "markdown",
   "metadata": {},
   "source": [
    "In Age column there are about 0.64% of outliers. Hence we can safely remove these data points."
   ]
  },
  {
   "cell_type": "code",
   "execution_count": 62,
   "metadata": {},
   "outputs": [],
   "source": [
    "df = df[(df['Age'] >= 18) & (df['Age'] <= 80)]"
   ]
  },
  {
   "cell_type": "code",
   "execution_count": 63,
   "metadata": {},
   "outputs": [],
   "source": [
    "# Function for detecting percentage of na's\n",
    "def na_Percent(data,col):\n",
    "    percent = round((len(data[data[col].isna()])/len(data))*100,2)\n",
    "    return percent"
   ]
  },
  {
   "cell_type": "code",
   "execution_count": 64,
   "metadata": {},
   "outputs": [
    {
     "data": {
      "text/plain": [
       "1.44"
      ]
     },
     "execution_count": 64,
     "metadata": {},
     "output_type": "execute_result"
    }
   ],
   "source": [
    "# Percentage of NA's in 'self_employed' column\n",
    "na_Percent(df,'self_employed')"
   ]
  },
  {
   "cell_type": "markdown",
   "metadata": {},
   "source": [
    "We will Replace NA's with mode of 'self_employed' column."
   ]
  },
  {
   "cell_type": "code",
   "execution_count": 65,
   "metadata": {},
   "outputs": [
    {
     "data": {
      "text/plain": [
       "'No'"
      ]
     },
     "execution_count": 65,
     "metadata": {},
     "output_type": "execute_result"
    }
   ],
   "source": [
    "df['self_employed'].mode()[0]"
   ]
  },
  {
   "cell_type": "code",
   "execution_count": 66,
   "metadata": {},
   "outputs": [],
   "source": [
    "df['self_employed'] = df['self_employed'].fillna(df['self_employed'].mode()[0])"
   ]
  },
  {
   "cell_type": "code",
   "execution_count": 67,
   "metadata": {},
   "outputs": [
    {
     "data": {
      "text/plain": [
       "20.94"
      ]
     },
     "execution_count": 67,
     "metadata": {},
     "output_type": "execute_result"
    }
   ],
   "source": [
    "# Percent of NA's in 'work_interfere' column\n",
    "na_Percent(df,'work_interfere')"
   ]
  },
  {
   "cell_type": "code",
   "execution_count": 68,
   "metadata": {},
   "outputs": [],
   "source": [
    "# Replacing NA's in 'work_interfere' column with mode based on 'treatment' column.\n",
    "mode_yes = df.loc[df['treatment'] == \"Yes\", 'work_interfere'].mode()[0]\n",
    "mode_no  = df.loc[df['treatment'] == \"No\", 'work_interfere'].mode()[0]\n",
    "\n",
    "mask1 = (df['treatment'] == \"Yes\") & (df['work_interfere'].isna())\n",
    "mask2 = (df['treatment'] == \"No\") & (df['work_interfere'].isna())\n",
    "\n",
    "df.loc[mask1, 'work_interfere'] = mode_yes\n",
    "df.loc[mask2, 'work_interfere'] = mode_no"
   ]
  },
  {
   "cell_type": "code",
   "execution_count": 69,
   "metadata": {},
   "outputs": [
    {
     "data": {
      "text/plain": [
       "41.01"
      ]
     },
     "execution_count": 69,
     "metadata": {},
     "output_type": "execute_result"
    }
   ],
   "source": [
    "# Percentage of NA's in 'state' column\n",
    "na_Percent(df,'state')"
   ]
  },
  {
   "cell_type": "markdown",
   "metadata": {},
   "source": [
    "Significant NA's are there. We will replace it with Non-USA State, this column contains only USA States."
   ]
  },
  {
   "cell_type": "code",
   "execution_count": 70,
   "metadata": {},
   "outputs": [],
   "source": [
    "df['state'] = df.apply(lambda row: 'Non-USA State' if (row['Country'] != 'United States') and pd.isna(row['state'])\n",
    "                       else row['state'], axis = 1)"
   ]
  },
  {
   "cell_type": "code",
   "execution_count": 71,
   "metadata": {},
   "outputs": [
    {
     "data": {
      "text/plain": [
       "np.int64(11)"
      ]
     },
     "execution_count": 71,
     "metadata": {},
     "output_type": "execute_result"
    }
   ],
   "source": [
    "##  Checking any NA values in 'state' column\n",
    "df['state'].isna().sum()"
   ]
  },
  {
   "cell_type": "markdown",
   "metadata": {},
   "source": [
    "There are still 11 NA's in state column. Probably these are the states in USA whose name is not mentioned in state column"
   ]
  },
  {
   "cell_type": "code",
   "execution_count": 72,
   "metadata": {},
   "outputs": [],
   "source": [
    "df['state'] = df['state'].fillna('Unknown')"
   ]
  },
  {
   "cell_type": "markdown",
   "metadata": {},
   "source": [
    "\"Comments\" column is of no use. Also it has significant NA's. We will drop this column"
   ]
  },
  {
   "cell_type": "code",
   "execution_count": 73,
   "metadata": {},
   "outputs": [],
   "source": [
    "df = df.drop('comments',axis = 1)"
   ]
  },
  {
   "cell_type": "code",
   "execution_count": 74,
   "metadata": {},
   "outputs": [],
   "source": [
    "# Converting Timestamp columns to DateTime\n",
    "df['Timestamp'] = pd.to_datetime(df['Timestamp'],format=\"%Y-%m-%d %H:%M:%S\")"
   ]
  },
  {
   "cell_type": "code",
   "execution_count": 75,
   "metadata": {},
   "outputs": [],
   "source": [
    "# Creating a column age group\n",
    "df['Age_group'] = df['Age'].apply(lambda x: 'Young Adult' if (x >= 18) & (x <= 20)\n",
    "                                  else 'Adult' if (x > 20) & (x <= 40)\n",
    "                                  else 'Senior')"
   ]
  },
  {
   "cell_type": "code",
   "execution_count": 76,
   "metadata": {},
   "outputs": [
    {
     "name": "stdout",
     "output_type": "stream",
     "text": [
      "<class 'pandas.core.frame.DataFrame'>\n",
      "Index: 1251 entries, 0 to 1258\n",
      "Data columns (total 27 columns):\n",
      " #   Column                     Non-Null Count  Dtype         \n",
      "---  ------                     --------------  -----         \n",
      " 0   Timestamp                  1251 non-null   datetime64[ns]\n",
      " 1   Age                        1251 non-null   int64         \n",
      " 2   Gender                     1251 non-null   object        \n",
      " 3   Country                    1251 non-null   object        \n",
      " 4   state                      1251 non-null   object        \n",
      " 5   self_employed              1251 non-null   object        \n",
      " 6   family_history             1251 non-null   object        \n",
      " 7   treatment                  1251 non-null   object        \n",
      " 8   work_interfere             1251 non-null   object        \n",
      " 9   no_employees               1251 non-null   object        \n",
      " 10  remote_work                1251 non-null   object        \n",
      " 11  tech_company               1251 non-null   object        \n",
      " 12  benefits                   1251 non-null   object        \n",
      " 13  care_options               1251 non-null   object        \n",
      " 14  wellness_program           1251 non-null   object        \n",
      " 15  seek_help                  1251 non-null   object        \n",
      " 16  anonymity                  1251 non-null   object        \n",
      " 17  leave                      1251 non-null   object        \n",
      " 18  mental_health_consequence  1251 non-null   object        \n",
      " 19  phys_health_consequence    1251 non-null   object        \n",
      " 20  coworkers                  1251 non-null   object        \n",
      " 21  supervisor                 1251 non-null   object        \n",
      " 22  mental_health_interview    1251 non-null   object        \n",
      " 23  phys_health_interview      1251 non-null   object        \n",
      " 24  mental_vs_physical         1251 non-null   object        \n",
      " 25  obs_consequence            1251 non-null   object        \n",
      " 26  Age_group                  1251 non-null   object        \n",
      "dtypes: datetime64[ns](1), int64(1), object(25)\n",
      "memory usage: 273.7+ KB\n"
     ]
    }
   ],
   "source": [
    "df.info()"
   ]
  },
  {
   "cell_type": "markdown",
   "metadata": {
    "id": "MSa1f5Uengrz"
   },
   "source": [
    "### What all manipulations have you done and insights you found?"
   ]
  },
  {
   "cell_type": "markdown",
   "metadata": {
    "id": "LbyXE7I1olp8"
   },
   "source": [
    "- **Insights**\n",
    "    - Dataset contains 1259 rows with 27 columns.\n",
    "    - Dataset has some null values in 'state','self_employed','work_interfere' and 'comments' column.\n",
    "    - Dataset doesn't have any duplicate rows.\n",
    "    - There are 40.91% of missing data in state column, 1.43% of missing values in 'self_employed' column, 20.97% missing values in 'work_interfere' column and 86.97% of missing values in 'comments' column.\n",
    "    - There is only one numeric column 'Age'. It has some inconsistencies as shown by the describe() method.\n",
    "    - Gender column also has a lot of inconsistencies e.g. writing something else other than Male,Female and Others.\n",
    "- **Data Manipulations**\n",
    "    - Classified contents in 'Gender' column into mainly three categories i.e. 'Male','Female', and 'Others' to make the data consistent.\n",
    "    - There are some outliers in 'Age' column , probably due to data entry errors. These data points were removed, since these outliers consisted only about 0.64% of whole dataset.\n",
    "    - NA's in 'self_employed' column was replaced with mode which is 'no'. These NA's consisted about 1.44% of whole column.\n",
    "    - Percentage of NA's in 'work_interfere' column is about 20.94%, this is not much but significant. These should be treated based on the 'treatment' column, since treatment related to mental illness relates directly with work interference. I have used mode of 'work_interfere' based on 'treatment' to fill the NA. This ensures not to bias our analysis.\n",
    "    - NA's in 'state' column was about 41.01%. I replaced NA's with 'Non-USA States' where Country was not United States. After this operation there were still 11 NA's, which I filled theme with Unknown.\n",
    "    - 'Comments' column was dropped since it contained about 87% of NA's.\n",
    "    - Added a column 'Age_group' containing entries like Senior, Adult, and Young Adults"
   ]
  },
  {
   "cell_type": "markdown",
   "metadata": {
    "id": "GF8Ens_Soomf"
   },
   "source": [
    "## ***4. Data Vizualization, Storytelling & Experimenting with charts : Understand the relationships between variables***"
   ]
  },
  {
   "cell_type": "markdown",
   "metadata": {
    "id": "0wOQAZs5pc--"
   },
   "source": [
    "#### Chart - 1"
   ]
  },
  {
   "cell_type": "code",
   "execution_count": 77,
   "metadata": {
    "id": "7v_ESjsspbW7"
   },
   "outputs": [
    {
     "data": {
      "image/png": "[encoded data removed]",
      "text/plain": [
       "<Figure size 800x700 with 1 Axes>"
      ]
     },
     "metadata": {},
     "output_type": "display_data"
    }
   ],
   "source": [
    "# Chart - 1 visualization code\n",
    "plt.figure(figsize = (8,7))\n",
    "plt.title(\"Age distribution\")\n",
    "sns.histplot(df['Age'],bins = 20,kde = True)\n",
    "plt.xlabel(\"Age\")\n",
    "plt.savefig(\"plot1.png\")\n",
    "plt.show()"
   ]
  },
  {
   "cell_type": "markdown",
   "metadata": {
    "id": "K5QZ13OEpz2H"
   },
   "source": [
    "##### 1. Why did you pick the specific chart?"
   ]
  },
  {
   "cell_type": "markdown",
   "metadata": {
    "id": "XESiWehPqBRc"
   },
   "source": [
    "This histogram chart shows the distribution of individual's age throghout the survey."
   ]
  },
  {
   "cell_type": "markdown",
   "metadata": {
    "id": "lQ7QKXXCp7Bj"
   },
   "source": [
    "##### 2. What is/are the insight(s) found from the chart?"
   ]
  },
  {
   "cell_type": "markdown",
   "metadata": {
    "id": "C_j1G7yiqdRP"
   },
   "source": [
    "1. Most Respondents are aged from 25-30\n",
    "    - The peak of the distribution is in the early late 20s to mid 30s, with the highest frequency between 28-35.\n",
    "    - This age group represents young professionals, often in early or mid-career stages.\n",
    "2. Distribution is Right-Skewed\n",
    "    - The curve has a long tail to the right, meaning fewer people in the 40+ age range.\n",
    "    - The population skews young, possibly due to the tech industry focus or online nature of the survey.\n",
    "3. Very few respondents are older than 50\n",
    "    - Individuals above 50 years are under-represented.\n",
    "    - Either older workers are fewer in number in this workforce or less likely to respond to such surveys."
   ]
  },
  {
   "cell_type": "markdown",
   "metadata": {
    "id": "448CDAPjqfQr"
   },
   "source": [
    "##### 3. Will the gained insights help creating a positive business impact?\n",
    "Are there any insights that lead to negative growth? Justify with specific reason."
   ]
  },
  {
   "cell_type": "markdown",
   "metadata": {
    "id": "3cspy4FjqxJW"
   },
   "source": [
    "- Insights that could lead to negative impact:\n",
    "    - Not paying attention to mental health of Adults (aged 20 - 30).\n",
    "    - Not expanding reach to older employees, can lead to downfall of senior mentorship.\n",
    "- Business Strategy\n",
    "    - Tailor Mental health programs to young adults\n",
    "        - Design digital-first, flexible mental health resources(apps,chat based councelling).\n",
    "        - Focus on concerns typical to this age group: burnout,anxiety, work-life balance, imposter syndrome.\n",
    "        - Host perr-group therapy or career stress management webinars.\n",
    "    - Target Career Milestones\n",
    "      - Customize resources for transitions:\n",
    "        - First job stress (for < 25)\n",
    "        - Mid-career burnout prevention (30-40)\n",
    "        - Leadership stress support (35-45)\n",
    "    - Expand Reach to Older Employees\n",
    "      Give the drop-off after 40\n",
    "      - Promote inclusivity by offering services suited for older demographics, like\n",
    "        - Private counseling\n",
    "        - Flexible scheduling\n",
    "        - Non-digital options or hybrid formats\n",
    "        - Investigate why older workers are under-represented: lack of access, trust, or outreach?"
   ]
  },
  {
   "cell_type": "markdown",
   "metadata": {
    "id": "KSlN3yHqYklG"
   },
   "source": [
    "#### Chart - 2"
   ]
  },
  {
   "cell_type": "code",
   "execution_count": 78,
   "metadata": {
    "id": "R4YgtaqtYklH"
   },
   "outputs": [
    {
     "data": {
      "image/png": "[encoded data removed]",
      "text/plain": [
       "<Figure size 800x600 with 1 Axes>"
      ]
     },
     "metadata": {},
     "output_type": "display_data"
    }
   ],
   "source": [
    "# Chart - 2 visualization code\n",
    "plt.figure(figsize = (8,6))\n",
    "plt.title(\"Gender difference in seeking treatment\")\n",
    "sns.countplot(df,x = 'Gender',hue = 'treatment')\n",
    "plt.savefig(\"plot2.png\")\n",
    "plt.show()"
   ]
  },
  {
   "cell_type": "markdown",
   "metadata": {
    "id": "t6dVpIINYklI"
   },
   "source": [
    "##### 1. Why did you pick the specific chart?"
   ]
  },
  {
   "cell_type": "markdown",
   "metadata": {
    "id": "5aaW0BYyYklI"
   },
   "source": [
    "This bar chart shows the number of individuals seeking treatment or not for mental illness based on gender. "
   ]
  },
  {
   "cell_type": "markdown",
   "metadata": {
    "id": "ijmpgYnKYklI"
   },
   "source": [
    "##### 2. What is/are the insight(s) found from the chart?"
   ]
  },
  {
   "cell_type": "markdown",
   "metadata": {
    "id": "PSx9atu2YklI"
   },
   "source": [
    "1. Female Employees are more likely to seek treatment\n",
    "    - A greater proportion of females sought mental health treatment compared to those who didn't.\n",
    "    - Indicates higher mental health aearenenss or comfort in seeking help among women.\n",
    "2. Male Employees are Less likely to Seek Treatment\n",
    "    - Though more men are in the dataset, a larger number of males said 'No' to treatment.\n",
    "    - Suggest possible stigma, reluctance, or lower awareness among men.\n",
    "3. Very few Non-Binary/Other Respondants\n",
    "    - Very small sample size under \"Others\" but they also show higher treatment- seeking proportionality."
   ]
  },
  {
   "cell_type": "markdown",
   "metadata": {
    "id": "-JiQyfWJYklI"
   },
   "source": [
    "##### 3. Will the gained insights help creating a positive business impact?\n",
    "Are there any insights that lead to negative growth? Justify with specific reason."
   ]
  },
  {
   "cell_type": "markdown",
   "metadata": {
    "id": "BcBbebzrYklV"
   },
   "source": [
    "**Business Strategy**\n",
    "1. Normalize Mental Health Help-Seeking Among Men\n",
    "    - Launch campaigns that target stigma among male employees using:\n",
    "        - Testimonials from male leaders who've sought help.\n",
    "        - Workshops specifically addresing masculanity and mental health.\n",
    "        - Anonymous access to counseling to reduce fear of judgement.\n",
    "2. Gender Tailored Wellnes Programs\n",
    "    - Female employees may benefit from forums or group support.\n",
    "    - Male employees may respond better to :\n",
    "        - 1-on-1 sessions\n",
    "        - Performance- and productivity-linked mental wellness education.\n",
    "3. Adresss Barriers for Men\n",
    "    - Investigate why male are less likely to seek treatment;\n",
    "        - Is it cost, confidentiality, perception etc?\n",
    "    - Use anonymous surveys to identify top blockers.\n"
   ]
  },
  {
   "cell_type": "markdown",
   "metadata": {
    "id": "EM7whBJCYoAo"
   },
   "source": [
    "#### Chart - 3"
   ]
  },
  {
   "cell_type": "code",
   "execution_count": 79,
   "metadata": {
    "id": "t6GMdE67YoAp"
   },
   "outputs": [
    {
     "data": {
      "image/png": "[encoded data removed]",
      "text/plain": [
       "<Figure size 800x700 with 1 Axes>"
      ]
     },
     "metadata": {},
     "output_type": "display_data"
    }
   ],
   "source": [
    "# Chart - 3 visualization code\n",
    "plt.figure(figsize = (8,7))\n",
    "plt.title(\"Age group differences in seeking treatment\")\n",
    "sns.countplot(df,x = 'Age_group',hue = 'treatment')\n",
    "plt.xlabel(\"Age Group\")\n",
    "plt.savefig(\"plot3.png\")\n",
    "plt.show()"
   ]
  },
  {
   "cell_type": "markdown",
   "metadata": {
    "id": "fge-S5ZAYoAp"
   },
   "source": [
    "##### 1. Why did you pick the specific chart?"
   ]
  },
  {
   "cell_type": "markdown",
   "metadata": {
    "id": "5dBItgRVYoAp"
   },
   "source": [
    "This chart shows the number of individuals seeking treatment or not, based on their age group."
   ]
  },
  {
   "cell_type": "markdown",
   "metadata": {
    "id": "85gYPyotYoAp"
   },
   "source": [
    "##### 2. What is/are the insight(s) found from the chart?"
   ]
  },
  {
   "cell_type": "markdown",
   "metadata": {
    "id": "4jstXR6OYoAp"
   },
   "source": [
    "1. Adults Are the Largest Group\n",
    "    - The Adult age group has the highest overall count, both in those who have and haven’t sought treatment.\n",
    "    - This reflects the workforce's core age range (likely 26–40), consistent with earlier age distribution findings.\n",
    "2. Seniors Are More Likely to Seek Treatment\n",
    "    - In the Senior category, the “Yes” bar is taller than the “No” bar, suggesting a higher treatment rate.\n",
    "    - This group may be more experienced or open to acknowledging mental health issues, or may face more stress due to senior responsibilities or long work hours.\n",
    "3. Young Adults Show the Lowest Participation Overall\n",
    "    - Very few Young Adults (likely ages 18–20) are in the dataset.\n",
    "    - Those who are present show slightly more “No” responses than “Yes”, suggesting underreporting or under-utilization of treatment."
   ]
  },
  {
   "cell_type": "markdown",
   "metadata": {
    "id": "RoGjAbkUYoAp"
   },
   "source": [
    "##### 3. Will the gained insights help creating a positive business impact?\n",
    "Are there any insights that lead to negative growth? Justify with specific reason."
   ]
  },
  {
   "cell_type": "markdown",
   "metadata": {
    "id": "zfJ8IqMcYoAp"
   },
   "source": [
    "1. Focus Resources on the Adult Group\n",
    "    - Since adults dominate the workforce, most interventions, benefit planning and policies should initially focaus here.\n",
    "    - Include services like:\n",
    "        - work stress counseling\n",
    "        - Burnout prevention workshops\n",
    "        - Flexible therapy options\n",
    "2. Support Seniors with Advanced Wellness Programs\n",
    "    - Seniors show high treatment- seeking behaviour, indicating awareness and possibly higher need.\n",
    "    - Offer:\n",
    "        - Leadership-level emotional resilience programs\n",
    "        - Private executive mental health coaching\n",
    "        - Resources for managing work-life balance at mid career or senior levels\n",
    "3. Increase outreach for young adults\n",
    "    - Very low participation among Young Adults could be due to:\n",
    "        - Lack of awareness\n",
    "        - Stigma\n",
    "        - Feeling invincible or unaffected\n",
    "    - Strategy\n",
    "        - Embed mental health literacy in onboarding and training\n",
    "        - Offer non-intimidating options like gamified apps, peer support groups\n",
    "        - Use social media and story telling(e.g. employee stories) to normalize seeking help."
   ]
  },
  {
   "cell_type": "markdown",
   "metadata": {
    "id": "4Of9eVA-YrdM"
   },
   "source": [
    "#### Chart - 4"
   ]
  },
  {
   "cell_type": "code",
   "execution_count": 80,
   "metadata": {
    "id": "irlUoxc8YrdO"
   },
   "outputs": [
    {
     "data": {
      "image/png": "[encoded data removed]",
      "text/plain": [
       "<Figure size 800x700 with 1 Axes>"
      ]
     },
     "metadata": {},
     "output_type": "display_data"
    }
   ],
   "source": [
    "# Chart - 4 visualization code\n",
    "plt.figure(figsize = (8,7))\n",
    "plt.title(\"Individuals seeking treatment or not based on top 10 country\")\n",
    "top_country = df['Country'].value_counts().nlargest(10).index\n",
    "sns.countplot(y = 'Country', hue = 'treatment', data = df[df['Country'].isin(top_country)])\n",
    "plt.xlabel(\"Individual Count\")\n",
    "plt.savefig(\"plot4.png\")\n",
    "plt.show()"
   ]
  },
  {
   "cell_type": "markdown",
   "metadata": {
    "id": "iky9q4vBYrdO"
   },
   "source": [
    "##### 1. Why did you pick the specific chart?"
   ]
  },
  {
   "cell_type": "markdown",
   "metadata": {
    "id": "aJRCwT6DYrdO"
   },
   "source": [
    "This chart shows the number of individuals seeking treatment in top 10 countries in the survey listings."
   ]
  },
  {
   "cell_type": "markdown",
   "metadata": {
    "id": "F6T5p64dYrdO"
   },
   "source": [
    "##### 2. What is/are the insight(s) found from the chart?"
   ]
  },
  {
   "cell_type": "markdown",
   "metadata": {
    "id": "Xx8WAJvtYrdO"
   },
   "source": [
    "1. The United States Dominates in Both Seeking and Not Seeking Treatment\n",
    "    - The U.S. has by far the highest number of respondents, for both treatment Yes and No.\n",
    "    - Indicates that the dataset is heavily skewed toward the U.S., which could reflect:\n",
    "        - Higher participation\n",
    "        - Larger tech workforce\n",
    "        - Greater openness or access to surveys\n",
    "2. United Kingdom Shows a Healthy Treatment-Seeking Behavior\n",
    "    - The UK has a notable number of “Yes” responses compared to “No”.\n",
    "    - Suggests greater mental health awareness and service accessibility in the UK.\n",
    "3. In Some Countries, \"No\" Outweighs \"Yes\"\n",
    "    - For countries like Germany, Netherlands, and France, more people do not seek treatment.\n",
    "    - This may point to:\n",
    "        - Stigma\n",
    "        - Lack of access\n",
    "        - Workplace culture not supportive of mental health\n",
    "4. Low Representation in India and New Zealand\n",
    "    - Very few participants from India, but those who responded mostly did not seek treatment.\n",
    "    - Indicates low awareness or high stigma in these regions, or simply low participation in such surveys."
   ]
  },
  {
   "cell_type": "markdown",
   "metadata": {
    "id": "y-Ehk30pYrdP"
   },
   "source": [
    "##### 3. Will the gained insights help creating a positive business impact?\n",
    "Are there any insights that lead to negative growth? Justify with specific reason."
   ]
  },
  {
   "cell_type": "markdown",
   "metadata": {
    "id": "jLNxxz7MYrdP"
   },
   "source": [
    "1. Localized Mental Health Campaigns\n",
    "    - United States & United Kingdom: Leverage existing openness — promote advanced support programs like mindfulness, stress coaching, burnout prevention.\n",
    "    - Germany, Netherlands, France: Focus on reducing stigma. Run campaigns showing that seeking treatment is normal and supported.\n",
    "    - India & New Zealand: Prioritize awareness building and entry-level services. Use social media, workplace seminars, and influencers to start conversations.\n",
    "2. Country-Specific Mental Health Resources\n",
    "    - Translate and culturally adapt materials for non-English-speaking countries.\n",
    "    - Work with local providers in countries with lower treatment-seeking behavior to increase accessibility.\n",
    "3. Encourage Anonymous Screening Tools\n",
    "    - In countries with low treatment-seeking rates, introduce anonymous self-assessment tools to lower the barrier to engagement.\n",
    "    - These can be embedded in internal HR portals or mobile apps."
   ]
  },
  {
   "cell_type": "markdown",
   "metadata": {
    "id": "bamQiAODYuh1"
   },
   "source": [
    "#### Chart - 5"
   ]
  },
  {
   "cell_type": "code",
   "execution_count": 81,
   "metadata": {
    "id": "TIJwrbroYuh3"
   },
   "outputs": [
    {
     "data": {
      "image/png": "[encoded data removed]",
      "text/plain": [
       "<Figure size 800x700 with 1 Axes>"
      ]
     },
     "metadata": {},
     "output_type": "display_data"
    }
   ],
   "source": [
    "# Chart - 5 visualization code\n",
    "plt.figure(figsize = (8,7))\n",
    "plt.title(\"Mental Health treatment prefference by type of employment\")\n",
    "sns.countplot(data = df,x = 'self_employed',hue = 'treatment')\n",
    "plt.xlabel(\"Is Self Employed\")\n",
    "plt.savefig(\"plot5.png\")\n",
    "plt.show()"
   ]
  },
  {
   "cell_type": "markdown",
   "metadata": {
    "id": "QHF8YVU7Yuh3"
   },
   "source": [
    "##### 1. Why did you pick the specific chart?"
   ]
  },
  {
   "cell_type": "markdown",
   "metadata": {
    "id": "dcxuIMRPYuh3"
   },
   "source": [
    "This bar chart compares how self-employed and non-self-employed individuals respond to whether they have sought mental health treatment."
   ]
  },
  {
   "cell_type": "markdown",
   "metadata": {
    "id": "GwzvFGzlYuh3"
   },
   "source": [
    "##### 2. What is/are the insight(s) found from the chart?"
   ]
  },
  {
   "cell_type": "markdown",
   "metadata": {
    "id": "uyqkiB8YYuh3"
   },
   "source": [
    "1. Majority of Respondents Are Not Self-Employed\n",
    "    - Most responses come from non-self-employed individuals (i.e., those working in organizations).\n",
    "    - The sheer volume of this group suggests more structured workplaces are better represented in the data.\n",
    "2. Treatment Rates Are Fairly Balanced Within Both Groups\n",
    "    - Both self-employed and non-self-employed groups show similar proportions of people seeking vs not seeking treatment.\n",
    "    - This suggests that employment type may not strongly affect treatment decision, at least in this sample.\n",
    "3. Self-Employed Show Slightly Higher Willingness to Seek Treatment\n",
    "    - Though smaller in count, a slightly higher share of self-employed individuals are seeking treatment compared to not seeking it.\n",
    "    - This may indicate more autonomy in prioritizing mental health, or possibly higher stress due to isolation or workload."
   ]
  },
  {
   "cell_type": "markdown",
   "metadata": {
    "id": "qYpmQ266Yuh3"
   },
   "source": [
    "##### 3. Will the gained insights help creating a positive business impact?\n",
    "Are there any insights that lead to negative growth? Justify with specific reason."
   ]
  },
  {
   "cell_type": "markdown",
   "metadata": {
    "id": "_WtzZ_hCYuh4"
   },
   "source": [
    "- Insights that can lead to negative business growth\n",
    "    - Not offering tailored Mental health support based on employment type\n",
    "    - Not normalizing mental health discussions in all work models\n",
    "\n",
    "**Business Strategy**\n",
    "1. Offer Tailored Mental Health Support Based on Employment Type\n",
    "- *For Non Self-employed(employees):*\n",
    "    - Use company infrastructure to roll out:\n",
    "        - Confidential counseling\n",
    "        - In house wellness programs\n",
    "        - Mental Health days\n",
    "    - Educate employees about mental health benefits.\n",
    "    - Train managers and HR to spot early signs of distress\n",
    "- *For eslf employed*\n",
    "    - Build partnerships with:\n",
    "        - Freelancer platforms\n",
    "        - Coworking spaces\n",
    "    - Provide affordable subscription-based mental health services or online therapy options\n",
    "    - Offer financially accessible tiers, like freemium models.\n",
    "2. Normalize mental Health Discussions in All work Models\n",
    "    - Promote social proof nd testimonials of self-employed professionals who benefited from seeking help.\n",
    "    - Use public figures, influencers, or industry veterans to reduce stigma across both employment types."
   ]
  },
  {
   "cell_type": "markdown",
   "metadata": {
    "id": "OH-pJp9IphqM"
   },
   "source": [
    "#### Chart - 6"
   ]
  },
  {
   "cell_type": "code",
   "execution_count": 82,
   "metadata": {
    "id": "kuRf4wtuphqN"
   },
   "outputs": [
    {
     "data": {
      "image/png": "[encoded data removed]",
      "text/plain": [
       "<Figure size 800x600 with 1 Axes>"
      ]
     },
     "metadata": {},
     "output_type": "display_data"
    }
   ],
   "source": [
    "# Chart - 6 visualization code\n",
    "plt.figure(figsize = (8,6))\n",
    "df_percent = df.groupby('family_history')['treatment'].value_counts(normalize=True).reset_index(name = 'Count')\n",
    "df_percent['Count'] = df_percent['Count'] * 100\n",
    "plt.title(\"Likelihood of seeking treatment of individuals with family history of mental illness\")\n",
    "sns.barplot(df_percent,x = 'family_history',y = 'Count',hue = 'treatment',palette = 'viridis')\n",
    "plt.ylabel(\"Respondents counts Percentage\")\n",
    "plt.xlabel(\"Is Family History\")\n",
    "plt.grid()\n",
    "plt.savefig(\"plot6.png\")\n",
    "plt.show()"
   ]
  },
  {
   "cell_type": "markdown",
   "metadata": {
    "id": "bbFf2-_FphqN"
   },
   "source": [
    "##### 1. Why did you pick the specific chart?"
   ]
  },
  {
   "cell_type": "markdown",
   "metadata": {
    "id": "loh7H2nzphqN"
   },
   "source": [
    "This bar chart shows the liklihood of an individual to seek mental health treatment based on family history."
   ]
  },
  {
   "cell_type": "markdown",
   "metadata": {
    "id": "_ouA3fa0phqN"
   },
   "source": [
    "##### 2. What is/are the insight(s) found from the chart?"
   ]
  },
  {
   "cell_type": "markdown",
   "metadata": {
    "id": "VECbqPI7phqN"
   },
   "source": [
    "1. Individuals with a Family History of Mental illness are more likely to seek treatment.\n",
    "    - People with family history of mental illness more tends to seek treatment.\n",
    "    - This suggest greater awareness among these people, motivating them to take action.\n",
    "2. Those without family history are less likely to seek help\n",
    "    - People without family history of mental illness are less likely to seek help.\n",
    "    - This could be due to:\n",
    "        - Lower Awareness\n",
    "        - Underestimating symptoms\n",
    "        - Greater Stigma or Denial\n",
    "3. Overall, Family History of Mental illness strongly correlates with treatment seeking behaviour."
   ]
  },
  {
   "cell_type": "markdown",
   "metadata": {
    "id": "Seke61FWphqN"
   },
   "source": [
    "##### 3. Will the gained insights help creating a positive business impact?\n",
    "Are there any insights that lead to negative growth? Justify with specific reason."
   ]
  },
  {
   "cell_type": "markdown",
   "metadata": {
    "id": "DW4_bGpfphqN"
   },
   "source": [
    "1. Leverage Family History as a Predictive Factor\n",
    "    - In employee health assessments or surveys, include anonymous questions about family history.\n",
    "    - Use this to offer personalized nudges or early intervention suggestions to at-risk groups\n",
    "2. Awareness Campaigns for Those Wihout Family History.\n",
    "    - Focaus efforts on educationg individuals without family history, who may falsely believe they are at low risk.\n",
    "3. Training for HR and Managers\n",
    "    - Train staff to identify early warning signs in all employees, regardless of family background.\n",
    "    - Avoid assuming that only those with family history need support."
   ]
  },
  {
   "cell_type": "markdown",
   "metadata": {
    "id": "PIIx-8_IphqN"
   },
   "source": [
    "#### Chart - 7"
   ]
  },
  {
   "cell_type": "code",
   "execution_count": 83,
   "metadata": {
    "id": "lqAIGUfyphqO"
   },
   "outputs": [
    {
     "data": {
      "image/png": "[encoded data removed]",
      "text/plain": [
       "<Figure size 800x600 with 1 Axes>"
      ]
     },
     "metadata": {},
     "output_type": "display_data"
    }
   ],
   "source": [
    "# Chart - 7 visualization code\n",
    "plt.figure(figsize = (8,6))\n",
    "plt.title(\"Liklihood of seeking treatment of individuals with work interference due to mental health\")\n",
    "df_percent = df.groupby('work_interfere')['treatment'].value_counts(normalize = True).reset_index(name = 'Count')\n",
    "df_percent['Count'] = df_percent['Count']*100\n",
    "sns.barplot(df_percent,x = 'work_interfere',y = 'Count',hue = 'treatment',palette='viridis')\n",
    "plt.ylabel(\"Respondents Percentage\")\n",
    "plt.xlabel(\"Work interference due to mental health\")\n",
    "plt.grid()\n",
    "plt.savefig(\"plot7.png\")\n",
    "plt.show()"
   ]
  },
  {
   "cell_type": "markdown",
   "metadata": {
    "id": "t27r6nlMphqO"
   },
   "source": [
    "##### 1. Why did you pick the specific chart?"
   ]
  },
  {
   "cell_type": "markdown",
   "metadata": {
    "id": "iv6ro40sphqO"
   },
   "source": [
    "This bar chart shows the clear correlation between how mental health affects work performance and the liklihood of seeking treatment."
   ]
  },
  {
   "cell_type": "markdown",
   "metadata": {
    "id": "r2jJGEOYphqO"
   },
   "source": [
    "##### 2. What is/are the insight(s) found from the chart?"
   ]
  },
  {
   "cell_type": "markdown",
   "metadata": {
    "id": "Po6ZPi4hphqO"
   },
   "source": [
    "1. Severe Work interference Strongly Correlates with Seeking Treatment\n",
    "    - Among those who report mental health \"Often\" interfering with work, over 85% seek treatment.\n",
    "    - Indicates that functional disruption is a powerful motivator for action.\\\n",
    "2. Ocasional Interference Also Prompts Treatment\n",
    "    - People reporting interference \"Sometimes\" or \"Rarely\" also show a majority seeking treatment.\n",
    "    - Even mild disruptions are prompting people to seek help. This is a positive sign of mental health awareness.\n",
    "3. \"Never\" Group has Extremely Low Treatment Rates\n",
    "    - Over 90% of individuals who report no interference with work do not seek treatment.\n",
    "    - Suggest that lack of visisble impact leads to underestimation of mental health issues."
   ]
  },
  {
   "cell_type": "markdown",
   "metadata": {
    "id": "b0JNsNcRphqO"
   },
   "source": [
    "##### 3. Will the gained insights help creating a positive business impact?\n",
    "Are there any insights that lead to negative growth? Justify with specific reason."
   ]
  },
  {
   "cell_type": "markdown",
   "metadata": {
    "id": "xvSq8iUTphqO"
   },
   "source": [
    "- **Insights that could lead negative growth**\n",
    "    - Not normalizing preventive mental health support\n",
    "    - Not Targeting Early Intervention Campaigns at the \"Rarely\" and \"Sometimes\" Groups.\n",
    "    - Neglecting \"Never\" groups, as these may contain hidden symptoms\n",
    "- **Business Strategy**\n",
    "1. normalize Preventive Mental health support\n",
    "    - Promote the idea that mental health doesn't have to be \"bad enough\" to justify help.\n",
    "    - Encourage all employees- even high performers to attend annual mental health check-ins.\n",
    "2. Target Early Intervention Campaigns at the \"Rarely\" and \"Sometimes\" Group\n",
    "    - These groups show good openness to seeking help.\n",
    "    - Offer\"\n",
    "        - Short workshops: \"Coping with work stress\"\n",
    "        - Self assessment quizess\n",
    "        - One free therapy session as an onboarding gift.\n",
    "3. Educate the \"Never\" Group about Hidden Symptoms\n",
    "    - Awareness campaigns can address the hidden symptoms\n",
    "    - Include messaging on:\n",
    "        - early symptoms or burnout\n",
    "        - Mental fatigue\n",
    "        - Emotional numbness"
   ]
  },
  {
   "cell_type": "markdown",
   "metadata": {
    "id": "BZR9WyysphqO"
   },
   "source": [
    "#### Chart - 8"
   ]
  },
  {
   "cell_type": "code",
   "execution_count": 84,
   "metadata": {
    "id": "TdPTWpAVphqO"
   },
   "outputs": [
    {
     "data": {
      "image/png": "[encoded data removed]",
      "text/plain": [
       "<Figure size 800x600 with 1 Axes>"
      ]
     },
     "metadata": {},
     "output_type": "display_data"
    }
   ],
   "source": [
    "# Chart - 8 visualization code\n",
    "plt.figure(figsize = (8,6))\n",
    "plt.title(\"Mental health benefits based on company size\")\n",
    "sns.countplot(df,x = 'no_employees',hue = 'benefits',palette='viridis')\n",
    "plt.xlabel(\"Company size\")\n",
    "plt.ylabel(\"Respondants Count\")\n",
    "plt.grid()\n",
    "plt.savefig(\"plot8.png\")\n",
    "plt.show()"
   ]
  },
  {
   "cell_type": "markdown",
   "metadata": {
    "id": "jj7wYXLtphqO"
   },
   "source": [
    "##### 1. Why did you pick the specific chart?"
   ]
  },
  {
   "cell_type": "markdown",
   "metadata": {
    "id": "Ob8u6rCTphqO"
   },
   "source": [
    "This bar chart reveals valuable insights into how different company sizes handle mental health benefits and where strategic improvements can be made."
   ]
  },
  {
   "cell_type": "markdown",
   "metadata": {
    "id": "eZrbJ2SmphqO"
   },
   "source": [
    "##### 2. What is/are the insight(s) found from the chart?"
   ]
  },
  {
   "cell_type": "markdown",
   "metadata": {
    "id": "mZtgC_hjphqO"
   },
   "source": [
    "1. Larger Companies Lead in Providing Benefits\n",
    "    - Companies with more than 1000 employees show the highest count of 'Yes' for mental health benefits\n",
    "2. Smallest Companies Almost never over benefits\n",
    "    - For firms with 1-5 employees, the dominant response is \"No\"\n",
    "    - These are likely startups, freelancers, or informal teams\n",
    "3. \"Don't know\" Responses Are High in Mid-Sized Companies\n",
    "    - Especially among those with 26-100 employees\n",
    "    - Indicates a communication gap. benefits exists but are not clearly conveyed or accessible."
   ]
  },
  {
   "cell_type": "markdown",
   "metadata": {
    "id": "rFu4xreNphqO"
   },
   "source": [
    "##### 3. Will the gained insights help creating a positive business impact?\n",
    "Are there any insights that lead to negative growth? Justify with specific reason."
   ]
  },
  {
   "cell_type": "markdown",
   "metadata": {
    "id": "ey_0qi68phqO"
   },
   "source": [
    "- **Insights that could lead to negative growth**\n",
    "    - Not advertising the benefits or communication gaps on mental health benefits.\n",
    "    - No significant mental health benefits in smaller comapnies and mid-sized companies.\n",
    "- **Business Strategy**\n",
    "1. For large enterprises\n",
    "    - Double down on marketing their mental health programs\n",
    "    - Share data on benefit usage outcomes.\n",
    "    - Introduce advanced services like therapy reimbursement, mindfullness apps etc\n",
    "2. For Small Comapnies\n",
    "    - Provide affordable external partnerships:\n",
    "        - Offer group pricing on mental health apps.\n",
    "        - Partner with local clinics for discounts\n",
    "        - Provide mental health stipends\n",
    "3. For Mid-Sized Companies\n",
    "    - Focus on communication and visibility of existing benefits\n",
    "    - Regularly email employees about what's available\n",
    "    - Train managers to mention benefits in reviews\n",
    "4. Address \"Don't know\" Responses Proactively\n",
    "    - A high \"Don't know\" Rate = lost value of existing programs\n",
    "    - Implement\n",
    "        - Awareness campaigns\n",
    "        - Internal FAQs\n",
    "        - Dashboard visibility on internal HR portals"
   ]
  },
  {
   "cell_type": "markdown",
   "metadata": {
    "id": "YJ55k-q6phqO"
   },
   "source": [
    "#### Chart - 9"
   ]
  },
  {
   "cell_type": "code",
   "execution_count": 85,
   "metadata": {
    "id": "B2aS4O1ophqO"
   },
   "outputs": [
    {
     "data": {
      "image/png": "[encoded data removed]",
      "text/plain": [
       "<Figure size 800x600 with 1 Axes>"
      ]
     },
     "metadata": {},
     "output_type": "display_data"
    }
   ],
   "source": [
    "# Chart - 9 visualization code\n",
    "plt.figure(figsize = (8,6))\n",
    "plt.title(\"Liklihood of seeking treatment when working remotely\")\n",
    "sns.countplot(df,x = 'remote_work', hue = 'treatment',palette='viridis')\n",
    "plt.grid()\n",
    "plt.ylabel(\"Respondents Count\")\n",
    "plt.xlabel(\"Is working remotely\")\n",
    "plt.savefig(\"plot9.png\")\n",
    "plt.show()"
   ]
  },
  {
   "cell_type": "markdown",
   "metadata": {
    "id": "gCFgpxoyphqP"
   },
   "source": [
    "##### 1. Why did you pick the specific chart?"
   ]
  },
  {
   "cell_type": "markdown",
   "metadata": {
    "id": "TVxDimi2phqP"
   },
   "source": [
    "this chart offers usefull insights into how remote work correlates with mental health treatment-seeking behaviour."
   ]
  },
  {
   "cell_type": "markdown",
   "metadata": {
    "id": "OVtJsKN_phqQ"
   },
   "source": [
    "##### 2. What is/are the insight(s) found from the chart?"
   ]
  },
  {
   "cell_type": "markdown",
   "metadata": {
    "id": "ngGi97qjphqQ"
   },
   "source": [
    "1. Remote Workers Are Slightly More Likely to Seek Treatment\n",
    "    - While both groups (remote and non-remote workers) show substantial treatment-seeking, the proportion of remote workers seeking treatment is slightly higher than those who don't.\n",
    "    - This may indicate:\n",
    "        - Increased self-awareness when working in isolation\n",
    "        - Easier access to teletherapy/virtual counseling\n",
    "        - More flexible schedules that allow time for treatment\n",
    "2. Non-Remote Workers Have Higher Overall Numbers\n",
    "    - The majority of respondents are non-remote workers.\n",
    "    - Their treatment-to-non-treatment ratio is roughly balanced, but the absolute number is higher, suggesting:\n",
    "        - In-person workplace environments still dominate\n",
    "        - Mental health struggles are not exclusive to remote environments\n",
    "3. Remote Work May Reduce Stigma\n",
    "    - Remote employees may feel more comfortable seeking help privately, avoiding workplace stigma or judgment."
   ]
  },
  {
   "cell_type": "markdown",
   "metadata": {
    "id": "lssrdh5qphqQ"
   },
   "source": [
    "##### 3. Will the gained insights help creating a positive business impact?\n",
    "Are there any insights that lead to negative growth? Justify with specific reason."
   ]
  },
  {
   "cell_type": "markdown",
   "metadata": {
    "id": "tBpY5ekJphqQ"
   },
   "source": [
    "1. Strengthen Virtual Mental Health Support for Remote Workers\n",
    "    - Offer Services like:\n",
    "        - Free access to teletherapy palteforms\n",
    "        - Virtual mental wellness workshops\n",
    "        - Scheduled \"mental health hours\" to block out for self care\n",
    "2. Keep Physical Office Employees Equally Supported\n",
    "    - Since non-remote workers form the largest group, ensure they:\n",
    "        - know about available services\n",
    "        - Have private spaces for therapy calls if needed\n",
    "        - Recieve on-site workshops or counseling access"
   ]
  },
  {
   "cell_type": "markdown",
   "metadata": {
    "id": "U2RJ9gkRphqQ"
   },
   "source": [
    "#### Chart - 10"
   ]
  },
  {
   "cell_type": "code",
   "execution_count": 86,
   "metadata": {
    "id": "GM7a4YP4phqQ"
   },
   "outputs": [
    {
     "data": {
      "image/png": "[encoded data removed]",
      "text/plain": [
       "<Figure size 800x600 with 1 Axes>"
      ]
     },
     "metadata": {},
     "output_type": "display_data"
    }
   ],
   "source": [
    "# Chart - 10 visualization code\n",
    "plt.figure(figsize = (8,6))\n",
    "plt.title(\"Liklihood of knowing about benefits in tech companies/non tech-companies\")\n",
    "sns.countplot(df,x = 'tech_company',hue = 'benefits',palette='viridis')\n",
    "plt.xlabel(\"Is Tech Company\")\n",
    "plt.ylabel(\"Respondents Count\")\n",
    "plt.grid()\n",
    "plt.savefig(\"plot10.png\")\n",
    "plt.show()"
   ]
  },
  {
   "cell_type": "markdown",
   "metadata": {
    "id": "1M8mcRywphqQ"
   },
   "source": [
    "##### 1. Why did you pick the specific chart?"
   ]
  },
  {
   "cell_type": "markdown",
   "metadata": {
    "id": "8agQvks0phqQ"
   },
   "source": [
    "This bar chart shows the number of individuals that knows about the mental health benefit plan of their organization, weather its tech company or non tech company."
   ]
  },
  {
   "cell_type": "markdown",
   "metadata": {
    "id": "tgIPom80phqQ"
   },
   "source": [
    "##### 2. What is/are the insight(s) found from the chart?"
   ]
  },
  {
   "cell_type": "markdown",
   "metadata": {
    "id": "Qp13pnNzphqQ"
   },
   "source": [
    "1. Higher Awareness in Tech Companies:\n",
    "    - A significantly larger number of respondents associated with tech comapnies know about benefits compared to those in non-tech comapnies.\n",
    "2. \"Don't Know\" and \"No\" are Significant in Tech:\n",
    "    - While \"Yes\" is the highest bar for tech comapnies, a substantial number of repondents still dont know about benefits.\n",
    "    - This indicates that even within tech, there's a considerable gap in benefit awareness.\n",
    "3. Lower Overall Awareness in Non-Tech Comapnies:\n",
    "    - The knowing about mental health benefits is much lower than in tech companies."
   ]
  },
  {
   "cell_type": "markdown",
   "metadata": {
    "id": "JMzcOPDDphqR"
   },
   "source": [
    "##### 3. Will the gained insights help creating a positive business impact?\n",
    "Are there any insights that lead to negative growth? Justify with specific reason."
   ]
  },
  {
   "cell_type": "markdown",
   "metadata": {
    "id": "R4Ka1PC2phqR"
   },
   "source": [
    "1. For Companies (Both Tech and Non-Tech) - Improving Internal Communication:\n",
    "\n",
    "- Strategy: Implement comprehensive and multi-channel communication strategies to ensure all employees are fully aware of their benefits.\n",
    "- Tactics:\n",
    "    - Dedicated Benefits Portals: Create easy-to-navigate online platforms with detailed information, FAQs, and links to benefit providers.\n",
    "    - Regular Information Sessions/Webinars: Conduct annual or semi-annual sessions to explain benefits, especially for new hires or when changes occur.\n",
    "    - Clear Documentation: Provide simplified benefits guides, handbooks, and summaries in easy-to-understand language.\n",
    "    - Personalized Communication: Use internal email campaigns, newsletters, or even personalized benefit statements.\n",
    "2. For Non-Tech Companies - Enhancing and Promoting Benefits to Compete:\n",
    "    - Strategy: If feasible, enhance your benefit packages to become more competitive, and critically, communicate them effectively to attract and retain talent who might otherwise gravitate towards tech.\n",
    "3. For Tech Companies - Maximising the value of existing benefits\n",
    "    - Strategy: While awareness is higher, ther's still a significant portion who don't know whether their organization is providing mental health benefits or not.\n",
    "    - To tackle this situation, Tech companies should focus more on their benefit campaigns and advertisement. These may include:\n",
    "        - Awareness Campaigns\n",
    "        - Internal FAQs\n",
    "        - Dashboard visibility on HR portals."
   ]
  },
  {
   "cell_type": "markdown",
   "metadata": {
    "id": "x-EpHcCOp1ci"
   },
   "source": [
    "#### Chart - 11"
   ]
  },
  {
   "cell_type": "code",
   "execution_count": 87,
   "metadata": {
    "id": "mAQTIvtqp1cj"
   },
   "outputs": [
    {
     "data": {
      "image/png": "[encoded data removed]",
      "text/plain": [
       "<Figure size 800x600 with 1 Axes>"
      ]
     },
     "metadata": {},
     "output_type": "display_data"
    }
   ],
   "source": [
    "# Chart - 11 visualization code\n",
    "color = ['green','blue','dark green']\n",
    "df_percent = df.groupby('tech_company')['mental_vs_physical'].value_counts(normalize = True).unstack()\n",
    "df_percent.plot(kind = 'barh',stacked = True,colormap = 'autumn',figsize = (8,6),\n",
    "               ylabel = \"Is tech Company\",xlabel = \"Respondents Percentage\",\n",
    "               title = \"Employer taking mental health seriously as physical health in tech/non tech org.\",\n",
    "               position = 0.5)\n",
    "plt.legend(title = \"Taking Mental health seriously\")\n",
    "plt.savefig(\"plot11.png\")\n",
    "plt.show()"
   ]
  },
  {
   "cell_type": "markdown",
   "metadata": {
    "id": "X_VqEhTip1ck"
   },
   "source": [
    "##### 1. Why did you pick the specific chart?"
   ]
  },
  {
   "cell_type": "markdown",
   "metadata": {
    "id": "-vsMzt_np1ck"
   },
   "source": [
    "This graph shows the distribution of responses of the employees where they belive that whether or not their company tech/non-tech takes mental health seriously or not."
   ]
  },
  {
   "cell_type": "markdown",
   "metadata": {
    "id": "8zGJKyg5p1ck"
   },
   "source": [
    "##### 2. What is/are the insight(s) found from the chart?"
   ]
  },
  {
   "cell_type": "markdown",
   "metadata": {
    "id": "ZYdMsrqVp1ck"
   },
   "source": [
    "1. **Significant \"Don't Know\" Across Both Sectors:** A large portion of respondents in both non-tech (around 43%) and tech (around 47%) organizations \"Don't know\" if their employer takes mental health as seriously as physical health. This is a critical insight, indicating a lack of clear communication or perceived commitment from employers.\n",
    "2. **Perceived Neglect in Non-Tech Companies:** In non-tech companies, a higher percentage of respondents (around 38%) feel that their employer does not take mental health as seriously as physical health (\"No\"), compared to tech companies (around 24%).\n",
    "3. **Slightly Better Perception in Tech Companies:** While still not ideal, tech companies show a slightly better perception, with a higher percentage of \"Yes\" (around 29%) compared to non-tech companies (around 19%). This suggests tech companies might be doing a bit more, or communicating better, regarding mental health initiatives.\n",
    "4. **Overall Room for Improvement:** In both sectors, the \"Yes\" category is the smallest, meaning a minority of employees believe their employer genuinely treats mental and physical health with equal seriousness."
   ]
  },
  {
   "cell_type": "markdown",
   "metadata": {
    "id": "PVzmfK_Ep1ck"
   },
   "source": [
    "##### 3. Will the gained insights help creating a positive business impact?\n",
    "Are there any insights that lead to negative growth? Justify with specific reason."
   ]
  },
  {
   "cell_type": "markdown",
   "metadata": {
    "id": "druuKYZpp1ck"
   },
   "source": [
    "- Insights that could lead to negative growth\n",
    "    - When employees perceive that their mental health is not taken seriously, it can lead to increased stress, burnout, lower productivity, and higher turnover rates.\n",
    " \n",
    "- Business Strategy\n",
    "1. Enhance Communication and Transperancy:\n",
    "    - Strategy: Address the large \"Don't Know\" segment by proactively and clearly communicating existing mental health resources, policies and the organization's commitment to employee well-being.\n",
    "    - These can be achieved by:\n",
    "        - Dedicated Campaigns\n",
    "        - Leadership Endorsement\n",
    "        - Resource Guides\n",
    "        - Regular Check-ins for mental health.\n",
    "2. Develop and Promote Robust Mental Health Programs\n",
    "    - Strategy: Actively demonstrate that mental health is taken as seriously as physical health by implementing tangible programs and policies.\n",
    "    - These can be achieved by:\n",
    "        - Comprehensive Employee Assistance Programs\n",
    "        - Mental Health Days/Leave\n",
    "        - Access to Therapy/Counseling\n",
    "        - Wellness Programs\n",
    "        - Flexible Work Arrangements\n",
    "3. Specific Strategies for Non-Tech Companies\n",
    "    - Strategy: Non-tech companies, which appear to lag in perception, need to make a more concerted effort to catch up with and potentially surpass tech companies in mental health support.\n",
    "    - These can be achieved by:\n",
    "        - Benchmarking: Research best practices in mental health support from leading companies and adapt them to their industry and culture.\n",
    "        - Budget Allocation: Advocate for increased budget allocation towards mental health programs, recognizing it as an investment in human capital.\n",
    "        - Culture Shift: Work on fostering a culture where seeking mental health support is normalized and encouraged, not stigmatized. This might involve employee testimonials or peer support groups."
   ]
  },
  {
   "cell_type": "markdown",
   "metadata": {
    "id": "n3dbpmDWp1ck"
   },
   "source": [
    "#### Chart - 12"
   ]
  },
  {
   "cell_type": "code",
   "execution_count": 88,
   "metadata": {
    "id": "bwevp1tKp1ck"
   },
   "outputs": [
    {
     "data": {
      "image/png": "[encoded data removed]",
      "text/plain": [
       "<Figure size 800x600 with 1 Axes>"
      ]
     },
     "metadata": {},
     "output_type": "display_data"
    }
   ],
   "source": [
    "# Chart - 12 visualization code\n",
    "plt.figure(figsize = (8,6))\n",
    "plt.title(\"Correlation of knowing care options with claiming mental health treatment\")\n",
    "sns.countplot(df,x = 'care_options',hue = 'treatment',palette='viridis')\n",
    "plt.xlabel(\"Has Care Options\")\n",
    "plt.ylabel(\"Respondents count\")\n",
    "plt.grid()\n",
    "plt.savefig(\"plot12.png\")\n",
    "plt.show()"
   ]
  },
  {
   "cell_type": "markdown",
   "metadata": {
    "id": "ylSl6qgtp1ck"
   },
   "source": [
    "##### 1. Why did you pick the specific chart?"
   ]
  },
  {
   "cell_type": "markdown",
   "metadata": {
    "id": "m2xqNkiQp1ck"
   },
   "source": [
    "This bar chart shows the correlation of knowing about care options with seeking mental health treatment of the respondents."
   ]
  },
  {
   "cell_type": "markdown",
   "metadata": {
    "id": "ZWILFDl5p1ck"
   },
   "source": [
    "##### 2. What is/are the insight(s) found from the chart?"
   ]
  },
  {
   "cell_type": "markdown",
   "metadata": {
    "id": "x-lUsV2mp1ck"
   },
   "source": [
    "1. Knowing Care Options Strongly Correlates with Seeking Treatment: The most striking insight is that individuals who know about care options are significantly more likely to claim mental health treatment than those who don't.\n",
    "2. Lack of Awareness Leads to Untreated Needs:\n",
    "    - For those who \"Don't know\" about care options, a notable number do not seek treatment, while fewer do. This suggests that even if there are underlying issues, a lack of awareness of options is a barrier.\n",
    "    - For those who believe they \"Don't have\" care options, a very high number do not seek treatment, while a smaller number do. This clearly indicates that perceived lack of options is a major deterrent.\n",
    "3. Knowing Doesn't Mean 100% Treatment: While knowing about care options drastically increases the likelihood of seeking treatment, it's not 100%. A significant number of people who know about options still do not claim treatment. This could be due to stigma, cost, lack of perceived need, or other barriers."
   ]
  },
  {
   "cell_type": "markdown",
   "metadata": {
    "id": "M7G43BXep1ck"
   },
   "source": [
    "##### 3. Will the gained insights help creating a positive business impact?\n",
    "Are there any insights that lead to negative growth? Justify with specific reason."
   ]
  },
  {
   "cell_type": "markdown",
   "metadata": {
    "id": "5wwDJXsLp1cl"
   },
   "source": [
    "- Insights that could lead to negative growth\n",
    "    - There are significant number of respones who are \"Not Sure\" or belive they \"Don't have\" options.\n",
    "    - Not targeting the groups that are \"Not Sure\" or belive they \"Don't have\" care options with specific outreach.\n",
    "\n",
    "- Business Strategy\n",
    "1. Aggressive Information Dissemination on Care Options:\n",
    "    - Strategy: The primary strategy should be to drastically increase awareness of available mental health care options, especially for those who are \"Not sure\" or believe they \"Don't have\" options.\n",
    "    - These can be done by:\n",
    "        - Multi Channel Communication\n",
    "        - Simple Language\n",
    "        - Accesibility Information stating how to access these options\n",
    "        - Regular Reminders updates about mental health resources\n",
    "2. Focus on \"Not Sure\" and \"No\" Segments\n",
    "    - Startegy: Target the groups that are \"Not sure\" or believe they \"Don't have\" care options with specific outreach.\n",
    "    - These can be done by:\n",
    "        - Workshops & Webinars: Host informational sessions explaining available mental health benefits and how to use them.\n",
    "        - Manager Training: Train managers to be aware of the resources and to guide employees to appropriate channels when needed.\n",
    "3. Address Barriers Beyond Awareness(for those who know but don't claim):\n",
    "    - Strategy: For the group that knows about options but still doesn't claim treatment, identify and address other potential barriers.\n",
    "    - These can be done through:\n",
    "        - Reducing Stigma.\n",
    "        - Address Cost Concerns\n",
    "        - Ensure Quality and fit\n",
    "        - Flexible Access"
   ]
  },
  {
   "cell_type": "markdown",
   "metadata": {
    "id": "Ag9LCva-p1cl"
   },
   "source": [
    "#### Chart - 13"
   ]
  },
  {
   "cell_type": "code",
   "execution_count": 89,
   "metadata": {
    "id": "EUfxeq9-p1cl"
   },
   "outputs": [
    {
     "data": {
      "image/png": "[encoded data removed]",
      "text/plain": [
       "<Figure size 1000x600 with 1 Axes>"
      ]
     },
     "metadata": {},
     "output_type": "display_data"
    }
   ],
   "source": [
    "# Chart - 13 visualization code\n",
    "df_percent = df.groupby('phys_health_interview')['mental_health_interview'].value_counts(normalize = True).unstack()\n",
    "df_percent.plot(kind = 'barh',stacked = True,colormap = 'viridis',figsize = (10,6),\n",
    "               ylabel = \"Discussing Physical health in interviews\",xlabel = \"Respondents Percentage\",\n",
    "               title = \"Liklihood of employees discussing mental or physical health in interviews\",\n",
    "               position = 0.5)\n",
    "plt.legend(title = \"Mental health discussion\")\n",
    "plt.tight_layout()\n",
    "plt.savefig(\"plot13.png\")\n",
    "plt.show()"
   ]
  },
  {
   "cell_type": "markdown",
   "metadata": {
    "id": "E6MkPsBcp1cl"
   },
   "source": [
    "##### 1. Why did you pick the specific chart?"
   ]
  },
  {
   "cell_type": "markdown",
   "metadata": {
    "id": "V22bRsFWp1cl"
   },
   "source": [
    "This stacked bar chart shows the percentage of respondents behaviour regarding mental health discussion and physical health discussion in interviews."
   ]
  },
  {
   "cell_type": "markdown",
   "metadata": {
    "id": "2cELzS2fp1cl"
   },
   "source": [
    "##### 2. What is/are the insight(s) found from the chart?"
   ]
  },
  {
   "cell_type": "markdown",
   "metadata": {
    "id": "ozQPc2_Ip1cl"
   },
   "source": [
    "1. Stigma Around Discussing Mental Health In Interviews:\n",
    "    - Even when candidate are open to discussing physical health, a significant portion either say \"No\" or \"Maybe\" to discussing mental health. This indicates a strong reluctance or percieved risk in bringing up mental health during an interview.\n",
    "    - When candidates are hesitant (\"Maybe\") or unwilling to discuss physical health, their reluctance to discuss mental health is even more pronounced.\n",
    "2. Physical health discussion is more Accepted/Common: The chart suggests that discussing physical health is more common or perceived less risky than discussing mental health. This is evident in the much larger \"No\" and \"Maybe\" segemnts for mental health discussions across all physical health categories.\n",
    "3. Potential for Bias/Discrimination Concern: The reluctance to discuss mental health likely stems from fear of judgement, stigma, or potential discrimination in the hiring process."
   ]
  },
  {
   "cell_type": "markdown",
   "metadata": {
    "id": "3MPXvC8up1cl"
   },
   "source": [
    "##### 3. Will the gained insights help creating a positive business impact?\n",
    "Are there any insights that lead to negative growth? Justify with specific reason."
   ]
  },
  {
   "cell_type": "markdown",
   "metadata": {
    "id": "GL8l1tdLp1cl"
   },
   "source": [
    "- Insights leading to negative growth:\n",
    "    - Reluctance to discuss about mental health could cause serious consequences o the company and as well as to the candidate.\n",
    "    - Not giving much importance to mental health as physical health\n",
    "\n",
    "- Business Strategy\n",
    "1. Create a Culture of Psychological Safety from Recruitment Onwards:\n",
    "    - Strategy: Proactively signal that the company is a safe and supportive environment for discussing all aspects of well-being, including mental health, right from the recruitment phase.\n",
    "    - These coul be done by:\n",
    "        - inclusion of Mental health support in job descriptions\n",
    "        - Recruiter Training on how to foster an inclusive and non-judgemental atmosphere.\n",
    "        - Showcasing Company Values and Cuslture related to emapthy, support and well-being.\n",
    "        - Feature testimonials from existing employees about the company's supportive environment for mental health.\n",
    "2. Standardize Discussions on Accommodations and Support:\n",
    "    - Strategy: Shift the focus from a \"disclosure\" of mental health issues to a discussion about \"support\" and \"accommodations\" that are available to all employees.\n",
    "    - These could be done by:\n",
    "        - Proactive inforamtion: During interviews, provide information about benefits related to mental health.\n",
    "        - Focus on performance and skills: Reiterate that the primary focus of the interview is on skills, experiance and cultural fit, ensuring candidates feel confident that their health status won't be a primary judgement criterion.\n",
    "3. Post-Offer, Pre-Employment Communication:\n",
    "    - Strategy: Provide detailed information about mental health benefits and resources after a job offer has been extended but before employment begins.\n",
    "    - These could be done by:\n",
    "        - Benefits Packet: Include comprehensive details about mental health support in the official benefits package.\n",
    "        - HR Onboarding Session: Dedicate a segment during HR onboarding to explain mental health resources and how to access them, reinforcing the company's commitment.\n",
    "      "
   ]
  },
  {
   "cell_type": "markdown",
   "metadata": {
    "id": "NC_X3p0fY2L0"
   },
   "source": [
    "#### Chart - 14"
   ]
  },
  {
   "cell_type": "code",
   "execution_count": 90,
   "metadata": {
    "id": "xyC9zolEZNRQ"
   },
   "outputs": [
    {
     "data": {
      "image/png": "[encoded data removed]",
      "text/plain": [
       "<Figure size 800x600 with 1 Axes>"
      ]
     },
     "metadata": {},
     "output_type": "display_data"
    }
   ],
   "source": [
    "plt.figure(figsize = (8,6))\n",
    "plt.title(\"Relationship between observed negative consequences of mental illness and seeking treatment\")\n",
    "sns.countplot(df,x = 'obs_consequence',hue = 'treatment',palette = 'viridis')\n",
    "plt.xlabel(\"Observed Mental Health Negative Consequences\")\n",
    "plt.ylabel(\"Respondents Counts\")\n",
    "plt.grid()\n",
    "plt.savefig(\"plot14.png\")\n",
    "plt.show()"
   ]
  },
  {
   "cell_type": "markdown",
   "metadata": {
    "id": "UV0SzAkaZNRQ"
   },
   "source": [
    "##### 1. Why did you pick the specific chart?"
   ]
  },
  {
   "cell_type": "markdown",
   "metadata": {
    "id": "DVPuT8LYZNRQ"
   },
   "source": [
    "This bar chart shows the behaviour trend of respondents to seeking treatment when there is observed negative consequences of mental illness."
   ]
  },
  {
   "cell_type": "markdown",
   "metadata": {
    "id": "YPEH6qLeZNRQ"
   },
   "source": [
    "##### 2. What is/are the insight(s) found from the chart?"
   ]
  },
  {
   "cell_type": "markdown",
   "metadata": {
    "id": "bfSqtnDqZNRR"
   },
   "source": [
    "1. Direct Observation Drives Treatment Seeking: A clear and strong correlation exists: when individuals have observed negative consequences of mental illness (\"Yes\" on 'Observed Mental Health Negative Consequences'), they are significantly more likely to seek treatment.\n",
    "    - \"Yes\" Observed Consequences: For those who have observed negative consequences, a substantial majority seek treatment, while a much smaller number do not. This indicates that witnessing the impact of untreated mental illness is a powerful motivator.\n",
    "2. Lack of Observed Consequences Leads to Untreated Needs: Conversely, when individuals have not observed negative consequences (\"No\" on 'Observed Mental Health Negative Consequences'), a larger number do not seek treatment compared to those who do. This is a critical segment for intervention.\n",
    "    - This group might include individuals who are suffering silently, are unaware of their own symptoms, or whose conditions haven't yet manifested in overt ways that they or others recognize as \"negative consequences.\"\n",
    "3. The Silent Majority: The \"No Observed Consequences\" group represents the largest segment of respondents overall, and within this group, the majority are not seeking treatment. This highlights a significant portion of the population that might have unmet mental health needs but are not driven to seek help because the negative impacts are not yet visible or acknowledged."
   ]
  },
  {
   "cell_type": "markdown",
   "metadata": {},
   "source": [
    "##### 3. Will the gained insights help creating a positive business impact?\n",
    "Are there any insights that lead to negative growth? Justify with specific reason."
   ]
  },
  {
   "cell_type": "markdown",
   "metadata": {},
   "source": [
    "- Insigths that could lead to negative growth\n",
    "    - Non-Awareness on long term consequences of untreated mental illness on the employees.\n",
    "    - Seeking treatment is reactive rather than preventive, which means in some cases it is possible that employee seeks treatment after its too late.\n",
    "\n",
    "- Business Strategy\n",
    "1. Proactive Awareness Campaigns Focusing on Early Signs and Subtle Impacts:\n",
    "    - Strategy: Target the large \"No Observed Consequences\" group by raising awareness not just of severe negative outcomes, but also of the early, subtle, or internal signs of mental health challenges that might not be immediately \"observed\" by others or even the individual.\n",
    "    - These could be done by:\n",
    "        - Educational Content: Develop campaigns (e.g., through internal communications, public service announcements, social media) that describe common early symptoms of mental health issues\n",
    "        - Self-Assessment Tools: Provide accessible, confidential self-assessment tools or quizzes that help individuals recognize potential mental health concerns before they escalate to \"observed negative consequences.\"\n",
    "        - Normalize Early Intervention: Emphasize that seeking help early for these subtle signs is a sign of strength and can prevent more severe consequences down the line.\n",
    "        - Focus on Functioning: Discuss how mental health can impact daily functioning, even if it's not overtly \"negative\" (e.g., reduced joy, difficulty maintaining focus, strained relationships).\n",
    "2. Destigmatize and Encourage Open Discussion:\n",
    "    - Strategy: Create an environment where mental health discussions are normalized, making it easier for individuals to acknowledge their struggles even if no \"observable negative consequences\" are present.\n",
    "    - These can be done by\n",
    "        - Leadership Role Modeling: Encourage leaders and managers to openly discuss the importance of mental well-being and share (if comfortable) their own experiences with self-care or seeking support.\n",
    "        - Mental Health First Aid Training: Train employees, especially managers, to recognize early signs of mental distress and provide initial support or guide colleagues to professional resources.\n",
    "3. Make Access to Care Easy and Proactive:\n",
    "    - Strategy: Reduce barriers to accessing mental health care, especially for those who might not feel an urgent need due to a lack of observed consequences.\n",
    "    - These can be done by:\n",
    "        - Free/Low-Cost Screenings: Offer free, confidential mental health screenings at workplaces or community centers.\n",
    "        - Wellness Benefits: Integrate mental health support into broader wellness benefits, such as mindfulness apps, stress management programs, or resilience training."
   ]
  },
  {
   "cell_type": "markdown",
   "metadata": {
    "id": "JcMwzZxoAimU"
   },
   "source": [
    "## **5. Solution to Business Objective**"
   ]
  },
  {
   "cell_type": "markdown",
   "metadata": {
    "id": "8G2x9gOozGDZ"
   },
   "source": [
    "#### What do you suggest the client to achieve Business Objective ?\n",
    "Explain Briefly."
   ]
  },
  {
   "cell_type": "markdown",
   "metadata": {
    "id": "pASKb0qOza21"
   },
   "source": [
    "1. **Age distribution & its relationship to mental health**\n",
    "- Tailor Mental health programs to young adults (aged 20-30).\n",
    "- Expand reach to older employees by private counseling, flexible scheduling etc.\n",
    "- Target career milestones.\n",
    "2. **Gender difference in seeking treatment**\n",
    "- Normalize mental health seeking among men by campaigns targeting stigma among men by using testimonies, workshops and anonimity during counseling.\n",
    "- Create gender tailored wellness program.\n",
    "- Address Common barriers for men.\n",
    "3. **Country wise comparison**\n",
    "- Localizing Mental health campaigns based on number of respondents seeking treatment.\n",
    "- Provide country specific mental health resources.\n",
    "- Encourage anonymous screening tools in countries with low treatment-seeking rates, like in Germany,India etc.\n",
    "4. **Are self employed individuals more or less likely to seek mental health treatment**\n",
    "- From the analysis, it appears that self employed individuals seek less mental health treatment.\n",
    "- possible solution is to offer tailored mental health support based on employment type\n",
    "- *For employees*\n",
    "    - Use company infrastructure to rollout different plans and care options.\n",
    "    - Educate them about mental health.\n",
    "- *For self employed*\n",
    "    - Build partnership with freelancers platforms.\n",
    "    - Provide mental health services\n",
    "- Normalize mental health discussions in all work models\n",
    "5. **Influence of family history of mental illness on likelihood of seeking treatment**\n",
    "- Individuals with family history of mental illness are more likely to seek treatment.\n",
    "- Leverage family history as predictive factor.\n",
    "- Awareness Campaigns for those without family history.\n",
    "6. **Do those who report work interference due to mental health actually seek treatment?**\n",
    "- Severe Work interference Strongly Correlates with Seeking Treatment\n",
    "- Normalize Preventive Mental health support\n",
    "- Ocasional Interference Also Prompts Treatment\n",
    "- Awareness campaigns can address the hidden symptoms\n",
    "7. **Are employees in larger companies more likely to recieve mental health benefits?**\n",
    "- Larger Companies Lead in Providing Benefits\n",
    "- For large enterprises, Double down on marketing their mental health programs, Share data on benefit usage outcomes and Introduce advanced services like therapy reimbursement, mindfullness apps etc.\n",
    "- For Small Comapnies, Provide affordable external partnerships, Offer group pricing on mental health apps, Partner with local clinics for discounts, and Provide mental health stipends\n",
    "- For Mid-Sized Companies, Focus on communication and visibility of existing benefits, Regularly email employees about what's available and Train managers to mention benefits in reviews.\n",
    "8. **Impact of working remotely on seeking treatment**\n",
    "- Remote Workers Are Slightly More Likely to Seek Treatment\n",
    "- Strengthen Virtual Mental Health Support for Remote Workers\n",
    "- Keep Physical Office Employees Equally Supported\n",
    "9. **Are tech companies more likely to offer benefits or wellness programs**\n",
    "-  A significantly larger number of respondents associated with tech comapnies know about benefits compared to those in non-tech comapnies.\n",
    "-  For Companies (Both Tech and Non-Tech) - Improve Internal Communication.\n",
    "-  For Non-Tech Companies - Enhance and Promote Benefits to Compete.\n",
    "-  For Tech Companies - Maximising the value of existing benefits\n",
    "10. **Do employees percieve that mental health is treated equally to physical health**\n",
    "- Significant \"Don't Know\" Across Both Sectors with percieved neglect in non-tech companies.\n",
    "- Enhance Communication and Transperancy\n",
    "- Develop and Promote Robust Mental Health Programs\n",
    "- Non-tech companies, which appear to lag in perception, need to make a more concerted effort to catch up with and potentially surpass tech companies in mental health support.\n",
    "11. **Does knowing care options correlate with actually seeking treatment**\n",
    "- Knowing Care Options Strongly Correlates with Seeking Treatment\n",
    "- The primary strategy should be to drastically increase awareness of available mental health care options, especially for those who are \"Not sure\" or believe they \"Don't have\" options.\n",
    "- Target the groups that are \"Not sure\" or believe they \"Don't have\" care options with specific outreach.\n",
    "- For the group that knows about options but still doesn't claim treatment, identify and address other potential barriers.\n",
    "12. **Are employees comfortable in discussing mental or physical health in interviews?**\n",
    "- Even when candidate are open to discussing physical health, a significant portion either say \"No\" or \"Maybe\" to discussing mental health.\n",
    "- Proactively signal that the company is a safe and supportive environment for discussing all aspects of well-being, including mental health, right from the recruitment phase.\n",
    "- Shift the focus from a \"disclosure\" of mental health issues to a discussion about \"support\" and \"accommodations\" that are available to all employees.\n",
    "- Provide detailed information about mental health benefits and resources after a job offer has been extended but before employment begins.\n",
    "13. **Are observed consequences for mental illness in workplace discouraging treatment?**\n",
    "- A clear and strong correlation exists: when individuals have observed negative consequences of mental illness (\"Yes\" on 'Observed Mental Health Negative Consequences'), they are significantly more likely to seek treatment.\n",
    "- Target the large \"No Observed Consequences\" group by raising awareness not just of severe negative outcomes, but also of the early, subtle, or internal signs of mental health challenges that might not be immediately \"observed\" by others or even the individual.\n",
    "- Create an environment where mental health discussions are normalized, making it easier for individuals to acknowledge their struggles even if no \"observable negative consequences\" are present.\n",
    "- Reduce barriers to accessing mental health care, especially for those who might not feel an urgent need due to a lack of observed consequences.\n",
    "14. **Is there a stigma in workplace that affects treatment?**\n",
    "- There are some stigma related to society and judgements passed by them particularly among men.\n",
    "- Normalizing the mental health by campaigns, TED talks and Webinars may help.\n",
    "- Maintaining the anonimity of the employees during treatment will encourage them to claim the treatment benefits.\n",
    "- Providing testimonials on success stories of previous employees, who struggled with their mental issues might encourage the employees."
   ]
  },
  {
   "cell_type": "markdown",
   "metadata": {
    "id": "gCX9965dhzqZ"
   },
   "source": [
    "# **Conclusion**"
   ]
  },
  {
   "cell_type": "markdown",
   "metadata": {
    "id": "Fjb1IsQkh3yE"
   },
   "source": [
    "The analysis strongly suggests that **information, awareness, and the perception of consequences** (both personal and observed in others) are critical drivers for individuals to seek mental health treatment. There's a widespread **awareness gap** regarding available care options and the potential negative impacts of untreated mental illness, especially for those who haven't directly observed severe consequences. Furthermore, **stigma remains a significant barrier**, particularly evident in the reluctance to discuss mental health during job interviews. While tech companies appear to be slightly more advanced in some aspects of mental health support and communication, both tech and non-tech organizations have substantial room for improvement in fostering psychologically safe environments and ensuring their employees are well-informed about, and have easy access to, mental health resources.\n",
    "\n",
    "**Key takeaway for businesses:** Invest strategically in proactive, comprehensive communication and education about mental health, focusing on early signs, available support, and the benefits of timely intervention, rather than waiting for severe consequences to drive action. Simultaneously, actively work to destigmatize mental health discussions throughout the employee lifecycle, from recruitment to daily operations."
   ]
  },
  {
   "cell_type": "markdown",
   "metadata": {
    "id": "gIfDvo9L0UH2"
   },
   "source": [
    "### ***Hurrah! You have successfully completed your EDA Capstone Project !!!***"
   ]
  },
  {
   "cell_type": "code",
   "execution_count": null,
   "metadata": {},
   "outputs": [],
   "source": []
  },
  {
   "cell_type": "code",
   "execution_count": null,
   "metadata": {},
   "outputs": [],
   "source": []
  }
 ],
 "metadata": {
  "colab": {
   "collapsed_sections": [
    "vncDsAP0Gaoa",
    "FJNUwmbgGyua",
    "w6K7xa23Elo4",
    "yQaldy8SH6Dl",
    "PH-0ReGfmX4f",
    "mDgbUHAGgjLW",
    "O_i_v8NEhb9l",
    "HhfV-JJviCcP",
    "Y3lxredqlCYt",
    "3RnN4peoiCZX",
    "x71ZqKXriCWQ",
    "7hBIi_osiCS2",
    "JlHwYmJAmNHm",
    "35m5QtbWiB9F",
    "PoPl-ycgm1ru",
    "H0kj-8xxnORC",
    "nA9Y7ga8ng1Z",
    "PBTbrJXOngz2",
    "u3PMJOP6ngxN",
    "dauF4eBmngu3",
    "bKJF3rekwFvQ",
    "MSa1f5Uengrz",
    "GF8Ens_Soomf",
    "0wOQAZs5pc--",
    "K5QZ13OEpz2H",
    "lQ7QKXXCp7Bj",
    "448CDAPjqfQr",
    "KSlN3yHqYklG",
    "t6dVpIINYklI",
    "ijmpgYnKYklI",
    "-JiQyfWJYklI",
    "EM7whBJCYoAo",
    "fge-S5ZAYoAp",
    "85gYPyotYoAp",
    "RoGjAbkUYoAp",
    "4Of9eVA-YrdM",
    "iky9q4vBYrdO",
    "F6T5p64dYrdO",
    "y-Ehk30pYrdP",
    "bamQiAODYuh1",
    "QHF8YVU7Yuh3",
    "GwzvFGzlYuh3",
    "qYpmQ266Yuh3",
    "OH-pJp9IphqM",
    "bbFf2-_FphqN",
    "_ouA3fa0phqN",
    "Seke61FWphqN",
    "PIIx-8_IphqN",
    "t27r6nlMphqO",
    "r2jJGEOYphqO",
    "b0JNsNcRphqO",
    "BZR9WyysphqO",
    "jj7wYXLtphqO",
    "eZrbJ2SmphqO",
    "rFu4xreNphqO",
    "YJ55k-q6phqO",
    "gCFgpxoyphqP",
    "OVtJsKN_phqQ",
    "lssrdh5qphqQ",
    "U2RJ9gkRphqQ",
    "1M8mcRywphqQ",
    "tgIPom80phqQ",
    "JMzcOPDDphqR",
    "x-EpHcCOp1ci",
    "X_VqEhTip1ck",
    "8zGJKyg5p1ck",
    "PVzmfK_Ep1ck",
    "n3dbpmDWp1ck",
    "ylSl6qgtp1ck",
    "ZWILFDl5p1ck",
    "M7G43BXep1ck",
    "Ag9LCva-p1cl",
    "E6MkPsBcp1cl",
    "2cELzS2fp1cl",
    "3MPXvC8up1cl",
    "NC_X3p0fY2L0",
    "UV0SzAkaZNRQ",
    "YPEH6qLeZNRQ",
    "q29F0dvdveiT",
    "EXh0U9oCveiU",
    "22aHeOlLveiV",
    "JcMwzZxoAimU",
    "8G2x9gOozGDZ",
    "gCX9965dhzqZ",
    "gIfDvo9L0UH2"
   ],
   "private_outputs": true,
   "provenance": []
  },
  "kernelspec": {
   "display_name": "Python 3 (ipykernel)",
   "language": "python",
   "name": "python3"
  },
  "language_info": {
   "codemirror_mode": {
    "name": "ipython",
    "version": 3
   },
   "file_extension": ".py",
   "mimetype": "text/x-python",
   "name": "python",
   "nbconvert_exporter": "python",
   "pygments_lexer": "ipython3",
   "version": "3.13.5"
  }
 },
 "nbformat": 4,
 "nbformat_minor": 4
}
